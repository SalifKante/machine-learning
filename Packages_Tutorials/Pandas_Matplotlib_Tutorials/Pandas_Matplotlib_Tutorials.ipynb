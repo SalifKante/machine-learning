{
 "cells": [
  {
   "cell_type": "markdown",
   "metadata": {},
   "source": [
    "Pandas is a library specializing in data analysis. In this tutorial, we are mainly interested to the functions of data manipulation."
   ]
  },
  {
   "cell_type": "markdown",
   "metadata": {},
   "source": [
    "# Data loading and description"
   ]
  },
  {
   "cell_type": "markdown",
   "metadata": {},
   "source": [
    "## Pandas library - options and version"
   ]
  },
  {
   "cell_type": "code",
   "execution_count": 1,
   "metadata": {},
   "outputs": [
    {
     "name": "stdout",
     "output_type": "stream",
     "text": [
      "1.1.3\n"
     ]
    }
   ],
   "source": [
    "import pandas\n",
    "pandas.options.display.max_rows =10\n",
    "print(pandas.__version__)"
   ]
  },
  {
   "cell_type": "markdown",
   "metadata": {},
   "source": [
    "## DataFrame structure"
   ]
  },
  {
   "cell_type": "markdown",
   "metadata": {},
   "source": [
    "A DataFrame corresponds to an instances-variables matrix where the rows correspond to observations, the columns to attributes describing the instances."
   ]
  },
  {
   "cell_type": "markdown",
   "metadata": {},
   "source": [
    "Concerning the \"heart.txt\" file: the first line corresponds to the names of the fields (of the variables); from the second line, we have the values for each record (individual); the \"\\ t\" character acts as a column separator."
   ]
  },
  {
   "cell_type": "code",
   "execution_count": 2,
   "metadata": {},
   "outputs": [
    {
     "name": "stdout",
     "output_type": "stream",
     "text": [
      "<class 'pandas.core.frame.DataFrame'>\n"
     ]
    }
   ],
   "source": [
    "df = pandas.read_table(\"heart.txt\", sep ='\\t',  header =0)\n",
    "print(type(df))"
   ]
  },
  {
   "cell_type": "markdown",
   "metadata": {},
   "source": [
    "'header = 0' to specify that line number 0 represents the names of the variables."
   ]
  },
  {
   "cell_type": "code",
   "execution_count": 69,
   "metadata": {},
   "outputs": [
    {
     "data": {
      "text/html": [
       "<div>\n",
       "<style scoped>\n",
       "    .dataframe tbody tr th:only-of-type {\n",
       "        vertical-align: middle;\n",
       "    }\n",
       "\n",
       "    .dataframe tbody tr th {\n",
       "        vertical-align: top;\n",
       "    }\n",
       "\n",
       "    .dataframe thead th {\n",
       "        text-align: right;\n",
       "    }\n",
       "</style>\n",
       "<table border=\"1\" class=\"dataframe\">\n",
       "  <thead>\n",
       "    <tr style=\"text-align: right;\">\n",
       "      <th></th>\n",
       "      <th>age</th>\n",
       "      <th>sexe</th>\n",
       "      <th>type_douleur</th>\n",
       "      <th>pression</th>\n",
       "      <th>cholester</th>\n",
       "      <th>sucre</th>\n",
       "      <th>electro</th>\n",
       "      <th>taux_max</th>\n",
       "      <th>angine</th>\n",
       "      <th>depression</th>\n",
       "      <th>pic</th>\n",
       "      <th>vaisseau</th>\n",
       "      <th>coeur</th>\n",
       "    </tr>\n",
       "  </thead>\n",
       "  <tbody>\n",
       "    <tr>\n",
       "      <th>0</th>\n",
       "      <td>70</td>\n",
       "      <td>masculin</td>\n",
       "      <td>D</td>\n",
       "      <td>130</td>\n",
       "      <td>322</td>\n",
       "      <td>A</td>\n",
       "      <td>C</td>\n",
       "      <td>109</td>\n",
       "      <td>non</td>\n",
       "      <td>24</td>\n",
       "      <td>2</td>\n",
       "      <td>D</td>\n",
       "      <td>presence</td>\n",
       "    </tr>\n",
       "    <tr>\n",
       "      <th>1</th>\n",
       "      <td>67</td>\n",
       "      <td>feminin</td>\n",
       "      <td>C</td>\n",
       "      <td>115</td>\n",
       "      <td>564</td>\n",
       "      <td>A</td>\n",
       "      <td>C</td>\n",
       "      <td>160</td>\n",
       "      <td>non</td>\n",
       "      <td>16</td>\n",
       "      <td>2</td>\n",
       "      <td>A</td>\n",
       "      <td>absence</td>\n",
       "    </tr>\n",
       "    <tr>\n",
       "      <th>2</th>\n",
       "      <td>57</td>\n",
       "      <td>masculin</td>\n",
       "      <td>B</td>\n",
       "      <td>124</td>\n",
       "      <td>261</td>\n",
       "      <td>A</td>\n",
       "      <td>A</td>\n",
       "      <td>141</td>\n",
       "      <td>non</td>\n",
       "      <td>3</td>\n",
       "      <td>1</td>\n",
       "      <td>A</td>\n",
       "      <td>presence</td>\n",
       "    </tr>\n",
       "    <tr>\n",
       "      <th>3</th>\n",
       "      <td>64</td>\n",
       "      <td>masculin</td>\n",
       "      <td>D</td>\n",
       "      <td>128</td>\n",
       "      <td>263</td>\n",
       "      <td>A</td>\n",
       "      <td>A</td>\n",
       "      <td>105</td>\n",
       "      <td>oui</td>\n",
       "      <td>2</td>\n",
       "      <td>2</td>\n",
       "      <td>B</td>\n",
       "      <td>absence</td>\n",
       "    </tr>\n",
       "    <tr>\n",
       "      <th>4</th>\n",
       "      <td>74</td>\n",
       "      <td>feminin</td>\n",
       "      <td>B</td>\n",
       "      <td>120</td>\n",
       "      <td>269</td>\n",
       "      <td>A</td>\n",
       "      <td>C</td>\n",
       "      <td>121</td>\n",
       "      <td>oui</td>\n",
       "      <td>2</td>\n",
       "      <td>1</td>\n",
       "      <td>B</td>\n",
       "      <td>absence</td>\n",
       "    </tr>\n",
       "  </tbody>\n",
       "</table>\n",
       "</div>"
      ],
      "text/plain": [
       "   age      sexe type_douleur  pression  cholester sucre electro  taux_max  \\\n",
       "0   70  masculin            D       130        322     A       C       109   \n",
       "1   67   feminin            C       115        564     A       C       160   \n",
       "2   57  masculin            B       124        261     A       A       141   \n",
       "3   64  masculin            D       128        263     A       A       105   \n",
       "4   74   feminin            B       120        269     A       C       121   \n",
       "\n",
       "  angine  depression  pic vaisseau     coeur  \n",
       "0    non          24    2        D  presence  \n",
       "1    non          16    2        A   absence  \n",
       "2    non           3    1        A  presence  \n",
       "3    oui           2    2        B   absence  \n",
       "4    oui           2    1        B   absence  "
      ]
     },
     "execution_count": 69,
     "metadata": {},
     "output_type": "execute_result"
    }
   ],
   "source": [
    "df.head()"
   ]
  },
  {
   "cell_type": "code",
   "execution_count": 4,
   "metadata": {},
   "outputs": [
    {
     "name": "stdout",
     "output_type": "stream",
     "text": [
      "(270, 13)\n"
     ]
    }
   ],
   "source": [
    "print(df.shape)"
   ]
  },
  {
   "cell_type": "code",
   "execution_count": 5,
   "metadata": {},
   "outputs": [
    {
     "name": "stdout",
     "output_type": "stream",
     "text": [
      "Index(['age', 'sexe', 'type_douleur', 'pression', 'cholester', 'sucre',\n",
      "       'electro', 'taux_max', 'angine', 'depression', 'pic', 'vaisseau',\n",
      "       'coeur'],\n",
      "      dtype='object')\n"
     ]
    }
   ],
   "source": [
    "print(df.columns)"
   ]
  },
  {
   "cell_type": "code",
   "execution_count": 6,
   "metadata": {},
   "outputs": [
    {
     "name": "stdout",
     "output_type": "stream",
     "text": [
      "age              int64\n",
      "sexe            object\n",
      "type_douleur    object\n",
      "pression         int64\n",
      "cholester        int64\n",
      "                 ...  \n",
      "angine          object\n",
      "depression       int64\n",
      "pic              int64\n",
      "vaisseau        object\n",
      "coeur           object\n",
      "Length: 13, dtype: object\n"
     ]
    }
   ],
   "source": [
    "print(df.dtypes)"
   ]
  },
  {
   "cell_type": "code",
   "execution_count": 7,
   "metadata": {},
   "outputs": [
    {
     "name": "stdout",
     "output_type": "stream",
     "text": [
      "<class 'pandas.core.frame.DataFrame'>\n",
      "RangeIndex: 270 entries, 0 to 269\n",
      "Data columns (total 13 columns):\n",
      " #   Column        Non-Null Count  Dtype \n",
      "---  ------        --------------  ----- \n",
      " 0   age           270 non-null    int64 \n",
      " 1   sexe          270 non-null    object\n",
      " 2   type_douleur  270 non-null    object\n",
      " 3   pression      270 non-null    int64 \n",
      " 4   cholester     270 non-null    int64 \n",
      " 5   sucre         270 non-null    object\n",
      " 6   electro       270 non-null    object\n",
      " 7   taux_max      270 non-null    int64 \n",
      " 8   angine        270 non-null    object\n",
      " 9   depression    270 non-null    int64 \n",
      " 10  pic           270 non-null    int64 \n",
      " 11  vaisseau      270 non-null    object\n",
      " 12  coeur         270 non-null    object\n",
      "dtypes: int64(6), object(7)\n",
      "memory usage: 27.5+ KB\n",
      "None\n"
     ]
    }
   ],
   "source": [
    "print(df.info())"
   ]
  },
  {
   "cell_type": "code",
   "execution_count": 8,
   "metadata": {},
   "outputs": [
    {
     "data": {
      "text/html": [
       "<div>\n",
       "<style scoped>\n",
       "    .dataframe tbody tr th:only-of-type {\n",
       "        vertical-align: middle;\n",
       "    }\n",
       "\n",
       "    .dataframe tbody tr th {\n",
       "        vertical-align: top;\n",
       "    }\n",
       "\n",
       "    .dataframe thead th {\n",
       "        text-align: right;\n",
       "    }\n",
       "</style>\n",
       "<table border=\"1\" class=\"dataframe\">\n",
       "  <thead>\n",
       "    <tr style=\"text-align: right;\">\n",
       "      <th></th>\n",
       "      <th>age</th>\n",
       "      <th>sexe</th>\n",
       "      <th>type_douleur</th>\n",
       "      <th>pression</th>\n",
       "      <th>cholester</th>\n",
       "      <th>sucre</th>\n",
       "      <th>electro</th>\n",
       "      <th>taux_max</th>\n",
       "      <th>angine</th>\n",
       "      <th>depression</th>\n",
       "      <th>pic</th>\n",
       "      <th>vaisseau</th>\n",
       "      <th>coeur</th>\n",
       "    </tr>\n",
       "  </thead>\n",
       "  <tbody>\n",
       "    <tr>\n",
       "      <th>count</th>\n",
       "      <td>270.000000</td>\n",
       "      <td>270</td>\n",
       "      <td>270</td>\n",
       "      <td>270.000000</td>\n",
       "      <td>270.000000</td>\n",
       "      <td>270</td>\n",
       "      <td>270</td>\n",
       "      <td>270.000000</td>\n",
       "      <td>270</td>\n",
       "      <td>270.0</td>\n",
       "      <td>270.000000</td>\n",
       "      <td>270</td>\n",
       "      <td>270</td>\n",
       "    </tr>\n",
       "    <tr>\n",
       "      <th>unique</th>\n",
       "      <td>NaN</td>\n",
       "      <td>2</td>\n",
       "      <td>4</td>\n",
       "      <td>NaN</td>\n",
       "      <td>NaN</td>\n",
       "      <td>2</td>\n",
       "      <td>3</td>\n",
       "      <td>NaN</td>\n",
       "      <td>2</td>\n",
       "      <td>NaN</td>\n",
       "      <td>NaN</td>\n",
       "      <td>4</td>\n",
       "      <td>2</td>\n",
       "    </tr>\n",
       "    <tr>\n",
       "      <th>top</th>\n",
       "      <td>NaN</td>\n",
       "      <td>masculin</td>\n",
       "      <td>D</td>\n",
       "      <td>NaN</td>\n",
       "      <td>NaN</td>\n",
       "      <td>A</td>\n",
       "      <td>C</td>\n",
       "      <td>NaN</td>\n",
       "      <td>non</td>\n",
       "      <td>NaN</td>\n",
       "      <td>NaN</td>\n",
       "      <td>A</td>\n",
       "      <td>absence</td>\n",
       "    </tr>\n",
       "    <tr>\n",
       "      <th>freq</th>\n",
       "      <td>NaN</td>\n",
       "      <td>183</td>\n",
       "      <td>129</td>\n",
       "      <td>NaN</td>\n",
       "      <td>NaN</td>\n",
       "      <td>230</td>\n",
       "      <td>137</td>\n",
       "      <td>NaN</td>\n",
       "      <td>181</td>\n",
       "      <td>NaN</td>\n",
       "      <td>NaN</td>\n",
       "      <td>160</td>\n",
       "      <td>150</td>\n",
       "    </tr>\n",
       "    <tr>\n",
       "      <th>mean</th>\n",
       "      <td>54.433333</td>\n",
       "      <td>NaN</td>\n",
       "      <td>NaN</td>\n",
       "      <td>131.344444</td>\n",
       "      <td>249.659259</td>\n",
       "      <td>NaN</td>\n",
       "      <td>NaN</td>\n",
       "      <td>149.677778</td>\n",
       "      <td>NaN</td>\n",
       "      <td>10.5</td>\n",
       "      <td>1.585185</td>\n",
       "      <td>NaN</td>\n",
       "      <td>NaN</td>\n",
       "    </tr>\n",
       "    <tr>\n",
       "      <th>...</th>\n",
       "      <td>...</td>\n",
       "      <td>...</td>\n",
       "      <td>...</td>\n",
       "      <td>...</td>\n",
       "      <td>...</td>\n",
       "      <td>...</td>\n",
       "      <td>...</td>\n",
       "      <td>...</td>\n",
       "      <td>...</td>\n",
       "      <td>...</td>\n",
       "      <td>...</td>\n",
       "      <td>...</td>\n",
       "      <td>...</td>\n",
       "    </tr>\n",
       "    <tr>\n",
       "      <th>min</th>\n",
       "      <td>29.000000</td>\n",
       "      <td>NaN</td>\n",
       "      <td>NaN</td>\n",
       "      <td>94.000000</td>\n",
       "      <td>126.000000</td>\n",
       "      <td>NaN</td>\n",
       "      <td>NaN</td>\n",
       "      <td>71.000000</td>\n",
       "      <td>NaN</td>\n",
       "      <td>0.0</td>\n",
       "      <td>1.000000</td>\n",
       "      <td>NaN</td>\n",
       "      <td>NaN</td>\n",
       "    </tr>\n",
       "    <tr>\n",
       "      <th>25%</th>\n",
       "      <td>48.000000</td>\n",
       "      <td>NaN</td>\n",
       "      <td>NaN</td>\n",
       "      <td>120.000000</td>\n",
       "      <td>213.000000</td>\n",
       "      <td>NaN</td>\n",
       "      <td>NaN</td>\n",
       "      <td>133.000000</td>\n",
       "      <td>NaN</td>\n",
       "      <td>0.0</td>\n",
       "      <td>1.000000</td>\n",
       "      <td>NaN</td>\n",
       "      <td>NaN</td>\n",
       "    </tr>\n",
       "    <tr>\n",
       "      <th>50%</th>\n",
       "      <td>55.000000</td>\n",
       "      <td>NaN</td>\n",
       "      <td>NaN</td>\n",
       "      <td>130.000000</td>\n",
       "      <td>245.000000</td>\n",
       "      <td>NaN</td>\n",
       "      <td>NaN</td>\n",
       "      <td>153.500000</td>\n",
       "      <td>NaN</td>\n",
       "      <td>8.0</td>\n",
       "      <td>2.000000</td>\n",
       "      <td>NaN</td>\n",
       "      <td>NaN</td>\n",
       "    </tr>\n",
       "    <tr>\n",
       "      <th>75%</th>\n",
       "      <td>61.000000</td>\n",
       "      <td>NaN</td>\n",
       "      <td>NaN</td>\n",
       "      <td>140.000000</td>\n",
       "      <td>280.000000</td>\n",
       "      <td>NaN</td>\n",
       "      <td>NaN</td>\n",
       "      <td>166.000000</td>\n",
       "      <td>NaN</td>\n",
       "      <td>16.0</td>\n",
       "      <td>2.000000</td>\n",
       "      <td>NaN</td>\n",
       "      <td>NaN</td>\n",
       "    </tr>\n",
       "    <tr>\n",
       "      <th>max</th>\n",
       "      <td>77.000000</td>\n",
       "      <td>NaN</td>\n",
       "      <td>NaN</td>\n",
       "      <td>200.000000</td>\n",
       "      <td>564.000000</td>\n",
       "      <td>NaN</td>\n",
       "      <td>NaN</td>\n",
       "      <td>202.000000</td>\n",
       "      <td>NaN</td>\n",
       "      <td>62.0</td>\n",
       "      <td>3.000000</td>\n",
       "      <td>NaN</td>\n",
       "      <td>NaN</td>\n",
       "    </tr>\n",
       "  </tbody>\n",
       "</table>\n",
       "<p>11 rows × 13 columns</p>\n",
       "</div>"
      ],
      "text/plain": [
       "               age      sexe type_douleur    pression   cholester sucre  \\\n",
       "count   270.000000       270          270  270.000000  270.000000   270   \n",
       "unique         NaN         2            4         NaN         NaN     2   \n",
       "top            NaN  masculin            D         NaN         NaN     A   \n",
       "freq           NaN       183          129         NaN         NaN   230   \n",
       "mean     54.433333       NaN          NaN  131.344444  249.659259   NaN   \n",
       "...            ...       ...          ...         ...         ...   ...   \n",
       "min      29.000000       NaN          NaN   94.000000  126.000000   NaN   \n",
       "25%      48.000000       NaN          NaN  120.000000  213.000000   NaN   \n",
       "50%      55.000000       NaN          NaN  130.000000  245.000000   NaN   \n",
       "75%      61.000000       NaN          NaN  140.000000  280.000000   NaN   \n",
       "max      77.000000       NaN          NaN  200.000000  564.000000   NaN   \n",
       "\n",
       "       electro    taux_max angine  depression         pic vaisseau    coeur  \n",
       "count      270  270.000000    270       270.0  270.000000      270      270  \n",
       "unique       3         NaN      2         NaN         NaN        4        2  \n",
       "top          C         NaN    non         NaN         NaN        A  absence  \n",
       "freq       137         NaN    181         NaN         NaN      160      150  \n",
       "mean       NaN  149.677778    NaN        10.5    1.585185      NaN      NaN  \n",
       "...        ...         ...    ...         ...         ...      ...      ...  \n",
       "min        NaN   71.000000    NaN         0.0    1.000000      NaN      NaN  \n",
       "25%        NaN  133.000000    NaN         0.0    1.000000      NaN      NaN  \n",
       "50%        NaN  153.500000    NaN         8.0    2.000000      NaN      NaN  \n",
       "75%        NaN  166.000000    NaN        16.0    2.000000      NaN      NaN  \n",
       "max        NaN  202.000000    NaN        62.0    3.000000      NaN      NaN  \n",
       "\n",
       "[11 rows x 13 columns]"
      ]
     },
     "execution_count": 8,
     "metadata": {},
     "output_type": "execute_result"
    }
   ],
   "source": [
    "df.describe(include='all')"
   ]
  },
  {
   "cell_type": "code",
   "execution_count": 9,
   "metadata": {},
   "outputs": [
    {
     "data": {
      "text/html": [
       "<div>\n",
       "<style scoped>\n",
       "    .dataframe tbody tr th:only-of-type {\n",
       "        vertical-align: middle;\n",
       "    }\n",
       "\n",
       "    .dataframe tbody tr th {\n",
       "        vertical-align: top;\n",
       "    }\n",
       "\n",
       "    .dataframe thead th {\n",
       "        text-align: right;\n",
       "    }\n",
       "</style>\n",
       "<table border=\"1\" class=\"dataframe\">\n",
       "  <thead>\n",
       "    <tr style=\"text-align: right;\">\n",
       "      <th></th>\n",
       "      <th>age</th>\n",
       "      <th>pression</th>\n",
       "      <th>cholester</th>\n",
       "      <th>taux_max</th>\n",
       "      <th>depression</th>\n",
       "      <th>pic</th>\n",
       "    </tr>\n",
       "  </thead>\n",
       "  <tbody>\n",
       "    <tr>\n",
       "      <th>count</th>\n",
       "      <td>270.000000</td>\n",
       "      <td>270.000000</td>\n",
       "      <td>270.000000</td>\n",
       "      <td>270.000000</td>\n",
       "      <td>270.000000</td>\n",
       "      <td>270.000000</td>\n",
       "    </tr>\n",
       "    <tr>\n",
       "      <th>mean</th>\n",
       "      <td>54.433333</td>\n",
       "      <td>131.344444</td>\n",
       "      <td>249.659259</td>\n",
       "      <td>149.677778</td>\n",
       "      <td>10.500000</td>\n",
       "      <td>1.585185</td>\n",
       "    </tr>\n",
       "    <tr>\n",
       "      <th>std</th>\n",
       "      <td>9.109067</td>\n",
       "      <td>17.861608</td>\n",
       "      <td>51.686237</td>\n",
       "      <td>23.165717</td>\n",
       "      <td>11.452098</td>\n",
       "      <td>0.614390</td>\n",
       "    </tr>\n",
       "    <tr>\n",
       "      <th>min</th>\n",
       "      <td>29.000000</td>\n",
       "      <td>94.000000</td>\n",
       "      <td>126.000000</td>\n",
       "      <td>71.000000</td>\n",
       "      <td>0.000000</td>\n",
       "      <td>1.000000</td>\n",
       "    </tr>\n",
       "    <tr>\n",
       "      <th>25%</th>\n",
       "      <td>48.000000</td>\n",
       "      <td>120.000000</td>\n",
       "      <td>213.000000</td>\n",
       "      <td>133.000000</td>\n",
       "      <td>0.000000</td>\n",
       "      <td>1.000000</td>\n",
       "    </tr>\n",
       "    <tr>\n",
       "      <th>50%</th>\n",
       "      <td>55.000000</td>\n",
       "      <td>130.000000</td>\n",
       "      <td>245.000000</td>\n",
       "      <td>153.500000</td>\n",
       "      <td>8.000000</td>\n",
       "      <td>2.000000</td>\n",
       "    </tr>\n",
       "    <tr>\n",
       "      <th>75%</th>\n",
       "      <td>61.000000</td>\n",
       "      <td>140.000000</td>\n",
       "      <td>280.000000</td>\n",
       "      <td>166.000000</td>\n",
       "      <td>16.000000</td>\n",
       "      <td>2.000000</td>\n",
       "    </tr>\n",
       "    <tr>\n",
       "      <th>max</th>\n",
       "      <td>77.000000</td>\n",
       "      <td>200.000000</td>\n",
       "      <td>564.000000</td>\n",
       "      <td>202.000000</td>\n",
       "      <td>62.000000</td>\n",
       "      <td>3.000000</td>\n",
       "    </tr>\n",
       "  </tbody>\n",
       "</table>\n",
       "</div>"
      ],
      "text/plain": [
       "              age    pression   cholester    taux_max  depression         pic\n",
       "count  270.000000  270.000000  270.000000  270.000000  270.000000  270.000000\n",
       "mean    54.433333  131.344444  249.659259  149.677778   10.500000    1.585185\n",
       "std      9.109067   17.861608   51.686237   23.165717   11.452098    0.614390\n",
       "min     29.000000   94.000000  126.000000   71.000000    0.000000    1.000000\n",
       "25%     48.000000  120.000000  213.000000  133.000000    0.000000    1.000000\n",
       "50%     55.000000  130.000000  245.000000  153.500000    8.000000    2.000000\n",
       "75%     61.000000  140.000000  280.000000  166.000000   16.000000    2.000000\n",
       "max     77.000000  200.000000  564.000000  202.000000   62.000000    3.000000"
      ]
     },
     "execution_count": 9,
     "metadata": {},
     "output_type": "execute_result"
    }
   ],
   "source": [
    "df.describe()"
   ]
  },
  {
   "cell_type": "code",
   "execution_count": 10,
   "metadata": {},
   "outputs": [
    {
     "data": {
      "text/html": [
       "<div>\n",
       "<style scoped>\n",
       "    .dataframe tbody tr th:only-of-type {\n",
       "        vertical-align: middle;\n",
       "    }\n",
       "\n",
       "    .dataframe tbody tr th {\n",
       "        vertical-align: top;\n",
       "    }\n",
       "\n",
       "    .dataframe thead th {\n",
       "        text-align: right;\n",
       "    }\n",
       "</style>\n",
       "<table border=\"1\" class=\"dataframe\">\n",
       "  <thead>\n",
       "    <tr style=\"text-align: right;\">\n",
       "      <th></th>\n",
       "      <th>sexe</th>\n",
       "      <th>type_douleur</th>\n",
       "      <th>sucre</th>\n",
       "      <th>electro</th>\n",
       "      <th>angine</th>\n",
       "      <th>vaisseau</th>\n",
       "      <th>coeur</th>\n",
       "    </tr>\n",
       "  </thead>\n",
       "  <tbody>\n",
       "    <tr>\n",
       "      <th>count</th>\n",
       "      <td>270</td>\n",
       "      <td>270</td>\n",
       "      <td>270</td>\n",
       "      <td>270</td>\n",
       "      <td>270</td>\n",
       "      <td>270</td>\n",
       "      <td>270</td>\n",
       "    </tr>\n",
       "    <tr>\n",
       "      <th>unique</th>\n",
       "      <td>2</td>\n",
       "      <td>4</td>\n",
       "      <td>2</td>\n",
       "      <td>3</td>\n",
       "      <td>2</td>\n",
       "      <td>4</td>\n",
       "      <td>2</td>\n",
       "    </tr>\n",
       "    <tr>\n",
       "      <th>top</th>\n",
       "      <td>masculin</td>\n",
       "      <td>D</td>\n",
       "      <td>A</td>\n",
       "      <td>C</td>\n",
       "      <td>non</td>\n",
       "      <td>A</td>\n",
       "      <td>absence</td>\n",
       "    </tr>\n",
       "    <tr>\n",
       "      <th>freq</th>\n",
       "      <td>183</td>\n",
       "      <td>129</td>\n",
       "      <td>230</td>\n",
       "      <td>137</td>\n",
       "      <td>181</td>\n",
       "      <td>160</td>\n",
       "      <td>150</td>\n",
       "    </tr>\n",
       "  </tbody>\n",
       "</table>\n",
       "</div>"
      ],
      "text/plain": [
       "            sexe type_douleur sucre electro angine vaisseau    coeur\n",
       "count        270          270   270     270    270      270      270\n",
       "unique         2            4     2       3      2        4        2\n",
       "top     masculin            D     A       C    non        A  absence\n",
       "freq         183          129   230     137    181      160      150"
      ]
     },
     "execution_count": 10,
     "metadata": {},
     "output_type": "execute_result"
    }
   ],
   "source": [
    "df.describe(include = ['object'])"
   ]
  },
  {
   "cell_type": "code",
   "execution_count": null,
   "metadata": {},
   "outputs": [],
   "source": []
  },
  {
   "cell_type": "markdown",
   "metadata": {},
   "source": [
    "Some statistical indicators are not valid only for numeric variables (eg mean, median, etc. for age, max_rate, ...) and vice versa for non-numeric ones (eg top, freq, etc. for sex, pain_type , ...), hence the NANs in certain situations."
   ]
  },
  {
   "cell_type": "markdown",
   "metadata": {},
   "source": [
    "# Manipulating Variables"
   ]
  },
  {
   "cell_type": "markdown",
   "metadata": {},
   "source": [
    "## Access to variables"
   ]
  },
  {
   "cell_type": "markdown",
   "metadata": {},
   "source": [
    "It is possible to explicitly access the variables. First, we directly use the names of the fields (the names of the variables, at the head of the columns)."
   ]
  },
  {
   "cell_type": "code",
   "execution_count": 11,
   "metadata": {},
   "outputs": [
    {
     "name": "stdout",
     "output_type": "stream",
     "text": [
      "0      masculin\n",
      "1       feminin\n",
      "2      masculin\n",
      "3      masculin\n",
      "4       feminin\n",
      "         ...   \n",
      "265    masculin\n",
      "266    masculin\n",
      "267     feminin\n",
      "268    masculin\n",
      "269    masculin\n",
      "Name: sexe, Length: 270, dtype: object\n"
     ]
    }
   ],
   "source": [
    "print(df['sexe'])"
   ]
  },
  {
   "cell_type": "code",
   "execution_count": 12,
   "metadata": {},
   "outputs": [
    {
     "name": "stdout",
     "output_type": "stream",
     "text": [
      "0      masculin\n",
      "1       feminin\n",
      "2      masculin\n",
      "3      masculin\n",
      "4       feminin\n",
      "         ...   \n",
      "265    masculin\n",
      "266    masculin\n",
      "267     feminin\n",
      "268    masculin\n",
      "269    masculin\n",
      "Name: sexe, Length: 270, dtype: object\n"
     ]
    }
   ],
   "source": [
    "print(df.sexe)"
   ]
  },
  {
   "cell_type": "code",
   "execution_count": 13,
   "metadata": {},
   "outputs": [
    {
     "data": {
      "text/html": [
       "<div>\n",
       "<style scoped>\n",
       "    .dataframe tbody tr th:only-of-type {\n",
       "        vertical-align: middle;\n",
       "    }\n",
       "\n",
       "    .dataframe tbody tr th {\n",
       "        vertical-align: top;\n",
       "    }\n",
       "\n",
       "    .dataframe thead th {\n",
       "        text-align: right;\n",
       "    }\n",
       "</style>\n",
       "<table border=\"1\" class=\"dataframe\">\n",
       "  <thead>\n",
       "    <tr style=\"text-align: right;\">\n",
       "      <th></th>\n",
       "      <th>sexe</th>\n",
       "      <th>sucre</th>\n",
       "    </tr>\n",
       "  </thead>\n",
       "  <tbody>\n",
       "    <tr>\n",
       "      <th>0</th>\n",
       "      <td>masculin</td>\n",
       "      <td>A</td>\n",
       "    </tr>\n",
       "    <tr>\n",
       "      <th>1</th>\n",
       "      <td>feminin</td>\n",
       "      <td>A</td>\n",
       "    </tr>\n",
       "    <tr>\n",
       "      <th>2</th>\n",
       "      <td>masculin</td>\n",
       "      <td>A</td>\n",
       "    </tr>\n",
       "    <tr>\n",
       "      <th>3</th>\n",
       "      <td>masculin</td>\n",
       "      <td>A</td>\n",
       "    </tr>\n",
       "    <tr>\n",
       "      <th>4</th>\n",
       "      <td>feminin</td>\n",
       "      <td>A</td>\n",
       "    </tr>\n",
       "    <tr>\n",
       "      <th>...</th>\n",
       "      <td>...</td>\n",
       "      <td>...</td>\n",
       "    </tr>\n",
       "    <tr>\n",
       "      <th>265</th>\n",
       "      <td>masculin</td>\n",
       "      <td>B</td>\n",
       "    </tr>\n",
       "    <tr>\n",
       "      <th>266</th>\n",
       "      <td>masculin</td>\n",
       "      <td>A</td>\n",
       "    </tr>\n",
       "    <tr>\n",
       "      <th>267</th>\n",
       "      <td>feminin</td>\n",
       "      <td>A</td>\n",
       "    </tr>\n",
       "    <tr>\n",
       "      <th>268</th>\n",
       "      <td>masculin</td>\n",
       "      <td>A</td>\n",
       "    </tr>\n",
       "    <tr>\n",
       "      <th>269</th>\n",
       "      <td>masculin</td>\n",
       "      <td>A</td>\n",
       "    </tr>\n",
       "  </tbody>\n",
       "</table>\n",
       "<p>270 rows × 2 columns</p>\n",
       "</div>"
      ],
      "text/plain": [
       "         sexe sucre\n",
       "0    masculin     A\n",
       "1     feminin     A\n",
       "2    masculin     A\n",
       "3    masculin     A\n",
       "4     feminin     A\n",
       "..        ...   ...\n",
       "265  masculin     B\n",
       "266  masculin     A\n",
       "267   feminin     A\n",
       "268  masculin     A\n",
       "269  masculin     A\n",
       "\n",
       "[270 rows x 2 columns]"
      ]
     },
     "execution_count": 13,
     "metadata": {},
     "output_type": "execute_result"
    }
   ],
   "source": [
    "df[['sexe','sucre']]"
   ]
  },
  {
   "cell_type": "code",
   "execution_count": 14,
   "metadata": {},
   "outputs": [
    {
     "name": "stdout",
     "output_type": "stream",
     "text": [
      "0    70\n",
      "1    67\n",
      "2    57\n",
      "3    64\n",
      "4    74\n",
      "Name: age, dtype: int64\n"
     ]
    }
   ],
   "source": [
    "print(df.age.head())"
   ]
  },
  {
   "cell_type": "code",
   "execution_count": 15,
   "metadata": {},
   "outputs": [
    {
     "name": "stdout",
     "output_type": "stream",
     "text": [
      "265    52\n",
      "266    44\n",
      "267    56\n",
      "268    57\n",
      "269    67\n",
      "Name: age, dtype: int64\n"
     ]
    }
   ],
   "source": [
    "print(df.age.tail())"
   ]
  },
  {
   "cell_type": "code",
   "execution_count": 16,
   "metadata": {},
   "outputs": [
    {
     "name": "stdout",
     "output_type": "stream",
     "text": [
      "count    270.000000\n",
      "mean      54.433333\n",
      "std        9.109067\n",
      "min       29.000000\n",
      "25%       48.000000\n",
      "50%       55.000000\n",
      "75%       61.000000\n",
      "max       77.000000\n",
      "Name: age, dtype: float64\n"
     ]
    }
   ],
   "source": [
    "print(df.age.describe())"
   ]
  },
  {
   "cell_type": "code",
   "execution_count": 17,
   "metadata": {},
   "outputs": [
    {
     "name": "stdout",
     "output_type": "stream",
     "text": [
      "54.43333333333333\n"
     ]
    }
   ],
   "source": [
    "print(df.age.mean())"
   ]
  },
  {
   "cell_type": "code",
   "execution_count": 18,
   "metadata": {},
   "outputs": [
    {
     "name": "stdout",
     "output_type": "stream",
     "text": [
      "D    129\n",
      "C     79\n",
      "B     42\n",
      "A     20\n",
      "Name: type_douleur, dtype: int64\n"
     ]
    }
   ],
   "source": [
    "print(df.type_douleur.value_counts())"
   ]
  },
  {
   "cell_type": "code",
   "execution_count": 70,
   "metadata": {},
   "outputs": [
    {
     "name": "stdout",
     "output_type": "stream",
     "text": [
      "29\n"
     ]
    }
   ],
   "source": [
    "print(df.age[214])"
   ]
  },
  {
   "cell_type": "code",
   "execution_count": 20,
   "metadata": {},
   "outputs": [
    {
     "name": "stdout",
     "output_type": "stream",
     "text": [
      "0    70\n",
      "1    67\n",
      "2    57\n",
      "Name: age, dtype: int64\n"
     ]
    }
   ],
   "source": [
    "print(df.age[0:3])"
   ]
  },
  {
   "cell_type": "markdown",
   "metadata": {},
   "source": [
    "Sort the values of a variable in an increasing way."
   ]
  },
  {
   "cell_type": "code",
   "execution_count": 21,
   "metadata": {},
   "outputs": [
    {
     "name": "stdout",
     "output_type": "stream",
     "text": [
      "214    29\n",
      "174    34\n",
      "138    34\n",
      "224    35\n",
      "81     35\n",
      "       ..\n",
      "15     71\n",
      "255    71\n",
      "4      74\n",
      "73     76\n",
      "199    77\n",
      "Name: age, Length: 270, dtype: int64\n"
     ]
    }
   ],
   "source": [
    "print(df.age.sort_values())"
   ]
  },
  {
   "cell_type": "markdown",
   "metadata": {},
   "source": [
    "We can also get the indices of the sorted values."
   ]
  },
  {
   "cell_type": "code",
   "execution_count": 22,
   "metadata": {},
   "outputs": [
    {
     "name": "stdout",
     "output_type": "stream",
     "text": [
      "0      214\n",
      "1      174\n",
      "2      138\n",
      "3      224\n",
      "4       81\n",
      "      ... \n",
      "265     15\n",
      "266    255\n",
      "267      4\n",
      "268     73\n",
      "269    199\n",
      "Name: age, Length: 270, dtype: int64\n"
     ]
    }
   ],
   "source": [
    "print(df.age.argsort())"
   ]
  },
  {
   "cell_type": "markdown",
   "metadata": {},
   "source": [
    "214 is the number of the individual with the smallest value of the age variable, then comes the number 174, etc. These results are completely consistent with those obtained with the sort_values () function."
   ]
  },
  {
   "cell_type": "markdown",
   "metadata": {},
   "source": [
    "Sorting can be generalized to DataFrame."
   ]
  },
  {
   "cell_type": "code",
   "execution_count": 73,
   "metadata": {},
   "outputs": [
    {
     "data": {
      "text/html": [
       "<div>\n",
       "<style scoped>\n",
       "    .dataframe tbody tr th:only-of-type {\n",
       "        vertical-align: middle;\n",
       "    }\n",
       "\n",
       "    .dataframe tbody tr th {\n",
       "        vertical-align: top;\n",
       "    }\n",
       "\n",
       "    .dataframe thead th {\n",
       "        text-align: right;\n",
       "    }\n",
       "</style>\n",
       "<table border=\"1\" class=\"dataframe\">\n",
       "  <thead>\n",
       "    <tr style=\"text-align: right;\">\n",
       "      <th></th>\n",
       "      <th>age</th>\n",
       "      <th>sexe</th>\n",
       "      <th>type_douleur</th>\n",
       "      <th>pression</th>\n",
       "      <th>cholester</th>\n",
       "      <th>sucre</th>\n",
       "      <th>electro</th>\n",
       "      <th>taux_max</th>\n",
       "      <th>angine</th>\n",
       "      <th>depression</th>\n",
       "      <th>pic</th>\n",
       "      <th>vaisseau</th>\n",
       "      <th>coeur</th>\n",
       "    </tr>\n",
       "  </thead>\n",
       "  <tbody>\n",
       "    <tr>\n",
       "      <th>214</th>\n",
       "      <td>29</td>\n",
       "      <td>masculin</td>\n",
       "      <td>B</td>\n",
       "      <td>130</td>\n",
       "      <td>204</td>\n",
       "      <td>A</td>\n",
       "      <td>C</td>\n",
       "      <td>202</td>\n",
       "      <td>non</td>\n",
       "      <td>0</td>\n",
       "      <td>1</td>\n",
       "      <td>A</td>\n",
       "      <td>absence</td>\n",
       "    </tr>\n",
       "    <tr>\n",
       "      <th>174</th>\n",
       "      <td>34</td>\n",
       "      <td>masculin</td>\n",
       "      <td>A</td>\n",
       "      <td>118</td>\n",
       "      <td>182</td>\n",
       "      <td>A</td>\n",
       "      <td>C</td>\n",
       "      <td>174</td>\n",
       "      <td>non</td>\n",
       "      <td>0</td>\n",
       "      <td>1</td>\n",
       "      <td>A</td>\n",
       "      <td>absence</td>\n",
       "    </tr>\n",
       "    <tr>\n",
       "      <th>138</th>\n",
       "      <td>34</td>\n",
       "      <td>feminin</td>\n",
       "      <td>B</td>\n",
       "      <td>118</td>\n",
       "      <td>210</td>\n",
       "      <td>A</td>\n",
       "      <td>A</td>\n",
       "      <td>192</td>\n",
       "      <td>non</td>\n",
       "      <td>7</td>\n",
       "      <td>1</td>\n",
       "      <td>A</td>\n",
       "      <td>absence</td>\n",
       "    </tr>\n",
       "    <tr>\n",
       "      <th>224</th>\n",
       "      <td>35</td>\n",
       "      <td>feminin</td>\n",
       "      <td>D</td>\n",
       "      <td>138</td>\n",
       "      <td>183</td>\n",
       "      <td>A</td>\n",
       "      <td>A</td>\n",
       "      <td>182</td>\n",
       "      <td>non</td>\n",
       "      <td>14</td>\n",
       "      <td>1</td>\n",
       "      <td>A</td>\n",
       "      <td>absence</td>\n",
       "    </tr>\n",
       "    <tr>\n",
       "      <th>81</th>\n",
       "      <td>35</td>\n",
       "      <td>masculin</td>\n",
       "      <td>D</td>\n",
       "      <td>120</td>\n",
       "      <td>198</td>\n",
       "      <td>A</td>\n",
       "      <td>A</td>\n",
       "      <td>130</td>\n",
       "      <td>oui</td>\n",
       "      <td>16</td>\n",
       "      <td>2</td>\n",
       "      <td>A</td>\n",
       "      <td>presence</td>\n",
       "    </tr>\n",
       "  </tbody>\n",
       "</table>\n",
       "</div>"
      ],
      "text/plain": [
       "     age      sexe type_douleur  pression  cholester sucre electro  taux_max  \\\n",
       "214   29  masculin            B       130        204     A       C       202   \n",
       "174   34  masculin            A       118        182     A       C       174   \n",
       "138   34   feminin            B       118        210     A       A       192   \n",
       "224   35   feminin            D       138        183     A       A       182   \n",
       "81    35  masculin            D       120        198     A       A       130   \n",
       "\n",
       "    angine  depression  pic vaisseau     coeur  \n",
       "214    non           0    1        A   absence  \n",
       "174    non           0    1        A   absence  \n",
       "138    non           7    1        A   absence  \n",
       "224    non          14    1        A   absence  \n",
       "81     oui          16    2        A  presence  "
      ]
     },
     "execution_count": 73,
     "metadata": {},
     "output_type": "execute_result"
    }
   ],
   "source": [
    "df.sort_values(by='age').head()"
   ]
  },
  {
   "cell_type": "markdown",
   "metadata": {},
   "source": [
    "## Iterations on variables"
   ]
  },
  {
   "cell_type": "markdown",
   "metadata": {},
   "source": [
    "The iterations on the variables can be done via a loop, or via the use of callback functions called using an .apply () function."
   ]
  },
  {
   "cell_type": "code",
   "execution_count": 24,
   "metadata": {},
   "outputs": [
    {
     "name": "stdout",
     "output_type": "stream",
     "text": [
      "int64\n",
      "object\n",
      "object\n",
      "int64\n",
      "int64\n",
      "object\n",
      "object\n",
      "int64\n",
      "object\n",
      "int64\n",
      "int64\n",
      "object\n",
      "object\n"
     ]
    }
   ],
   "source": [
    "for col in df.columns:\n",
    "    print(df[col].dtype)"
   ]
  },
  {
   "cell_type": "code",
   "execution_count": 71,
   "metadata": {},
   "outputs": [
    {
     "name": "stdout",
     "output_type": "stream",
     "text": [
      "age            54.433333\n",
      "pression      131.344444\n",
      "cholester     249.659259\n",
      "taux_max      149.677778\n",
      "depression     10.500000\n",
      "pic             1.585185\n",
      "dtype: float64\n"
     ]
    }
   ],
   "source": [
    "import numpy\n",
    "\n",
    "def operation(x):\n",
    "    return(x.mean())\n",
    "\n",
    "resultat = df.select_dtypes(exclude=['object']).apply(operation, axis=0)\n",
    "print(resultat)"
   ]
  },
  {
   "cell_type": "markdown",
   "metadata": {},
   "source": [
    "# Indexed access to the data of a DataFrame\n"
   ]
  },
  {
   "cell_type": "markdown",
   "metadata": {},
   "source": [
    "We can be access to the DataFrame values via index or index ranges. The structure then behaves like a matrix. The cell at the top and to the left has coordinate (0,0).\n",
    "\n",
    "There are different ways to do this, using .iloc[,] is one of the easiest solutions."
   ]
  },
  {
   "cell_type": "code",
   "execution_count": 26,
   "metadata": {},
   "outputs": [
    {
     "name": "stdout",
     "output_type": "stream",
     "text": [
      "70\n"
     ]
    }
   ],
   "source": [
    "print(df.iloc[0,0])"
   ]
  },
  {
   "cell_type": "code",
   "execution_count": 80,
   "metadata": {},
   "outputs": [
    {
     "name": "stdout",
     "output_type": "stream",
     "text": [
      "67\n",
      "67\n"
     ]
    }
   ],
   "source": [
    "print(df.age[269])\n",
    "print(df.iloc[-1,0])"
   ]
  },
  {
   "cell_type": "code",
   "execution_count": 81,
   "metadata": {},
   "outputs": [
    {
     "data": {
      "text/html": [
       "<div>\n",
       "<style scoped>\n",
       "    .dataframe tbody tr th:only-of-type {\n",
       "        vertical-align: middle;\n",
       "    }\n",
       "\n",
       "    .dataframe tbody tr th {\n",
       "        vertical-align: top;\n",
       "    }\n",
       "\n",
       "    .dataframe thead th {\n",
       "        text-align: right;\n",
       "    }\n",
       "</style>\n",
       "<table border=\"1\" class=\"dataframe\">\n",
       "  <thead>\n",
       "    <tr style=\"text-align: right;\">\n",
       "      <th></th>\n",
       "      <th>age</th>\n",
       "      <th>sexe</th>\n",
       "      <th>type_douleur</th>\n",
       "      <th>pression</th>\n",
       "      <th>cholester</th>\n",
       "      <th>sucre</th>\n",
       "      <th>electro</th>\n",
       "      <th>taux_max</th>\n",
       "      <th>angine</th>\n",
       "      <th>depression</th>\n",
       "      <th>pic</th>\n",
       "      <th>vaisseau</th>\n",
       "      <th>coeur</th>\n",
       "    </tr>\n",
       "  </thead>\n",
       "  <tbody>\n",
       "    <tr>\n",
       "      <th>0</th>\n",
       "      <td>70</td>\n",
       "      <td>masculin</td>\n",
       "      <td>D</td>\n",
       "      <td>130</td>\n",
       "      <td>322</td>\n",
       "      <td>A</td>\n",
       "      <td>C</td>\n",
       "      <td>109</td>\n",
       "      <td>non</td>\n",
       "      <td>24</td>\n",
       "      <td>2</td>\n",
       "      <td>D</td>\n",
       "      <td>presence</td>\n",
       "    </tr>\n",
       "    <tr>\n",
       "      <th>1</th>\n",
       "      <td>67</td>\n",
       "      <td>feminin</td>\n",
       "      <td>C</td>\n",
       "      <td>115</td>\n",
       "      <td>564</td>\n",
       "      <td>A</td>\n",
       "      <td>C</td>\n",
       "      <td>160</td>\n",
       "      <td>non</td>\n",
       "      <td>16</td>\n",
       "      <td>2</td>\n",
       "      <td>A</td>\n",
       "      <td>absence</td>\n",
       "    </tr>\n",
       "    <tr>\n",
       "      <th>2</th>\n",
       "      <td>57</td>\n",
       "      <td>masculin</td>\n",
       "      <td>B</td>\n",
       "      <td>124</td>\n",
       "      <td>261</td>\n",
       "      <td>A</td>\n",
       "      <td>A</td>\n",
       "      <td>141</td>\n",
       "      <td>non</td>\n",
       "      <td>3</td>\n",
       "      <td>1</td>\n",
       "      <td>A</td>\n",
       "      <td>presence</td>\n",
       "    </tr>\n",
       "    <tr>\n",
       "      <th>3</th>\n",
       "      <td>64</td>\n",
       "      <td>masculin</td>\n",
       "      <td>D</td>\n",
       "      <td>128</td>\n",
       "      <td>263</td>\n",
       "      <td>A</td>\n",
       "      <td>A</td>\n",
       "      <td>105</td>\n",
       "      <td>oui</td>\n",
       "      <td>2</td>\n",
       "      <td>2</td>\n",
       "      <td>B</td>\n",
       "      <td>absence</td>\n",
       "    </tr>\n",
       "    <tr>\n",
       "      <th>4</th>\n",
       "      <td>74</td>\n",
       "      <td>feminin</td>\n",
       "      <td>B</td>\n",
       "      <td>120</td>\n",
       "      <td>269</td>\n",
       "      <td>A</td>\n",
       "      <td>C</td>\n",
       "      <td>121</td>\n",
       "      <td>oui</td>\n",
       "      <td>2</td>\n",
       "      <td>1</td>\n",
       "      <td>B</td>\n",
       "      <td>absence</td>\n",
       "    </tr>\n",
       "  </tbody>\n",
       "</table>\n",
       "</div>"
      ],
      "text/plain": [
       "   age      sexe type_douleur  pression  cholester sucre electro  taux_max  \\\n",
       "0   70  masculin            D       130        322     A       C       109   \n",
       "1   67   feminin            C       115        564     A       C       160   \n",
       "2   57  masculin            B       124        261     A       A       141   \n",
       "3   64  masculin            D       128        263     A       A       105   \n",
       "4   74   feminin            B       120        269     A       C       121   \n",
       "\n",
       "  angine  depression  pic vaisseau     coeur  \n",
       "0    non          24    2        D  presence  \n",
       "1    non          16    2        A   absence  \n",
       "2    non           3    1        A  presence  \n",
       "3    oui           2    2        B   absence  \n",
       "4    oui           2    1        B   absence  "
      ]
     },
     "execution_count": 81,
     "metadata": {},
     "output_type": "execute_result"
    }
   ],
   "source": [
    "df.iloc[0:5,:]"
   ]
  },
  {
   "cell_type": "code",
   "execution_count": 86,
   "metadata": {},
   "outputs": [
    {
     "data": {
      "text/html": [
       "<div>\n",
       "<style scoped>\n",
       "    .dataframe tbody tr th:only-of-type {\n",
       "        vertical-align: middle;\n",
       "    }\n",
       "\n",
       "    .dataframe tbody tr th {\n",
       "        vertical-align: top;\n",
       "    }\n",
       "\n",
       "    .dataframe thead th {\n",
       "        text-align: right;\n",
       "    }\n",
       "</style>\n",
       "<table border=\"1\" class=\"dataframe\">\n",
       "  <thead>\n",
       "    <tr style=\"text-align: right;\">\n",
       "      <th></th>\n",
       "      <th>age</th>\n",
       "      <th>sexe</th>\n",
       "      <th>type_douleur</th>\n",
       "      <th>pression</th>\n",
       "      <th>cholester</th>\n",
       "      <th>sucre</th>\n",
       "      <th>electro</th>\n",
       "      <th>taux_max</th>\n",
       "      <th>angine</th>\n",
       "      <th>depression</th>\n",
       "      <th>pic</th>\n",
       "      <th>vaisseau</th>\n",
       "      <th>coeur</th>\n",
       "    </tr>\n",
       "  </thead>\n",
       "  <tbody>\n",
       "    <tr>\n",
       "      <th>265</th>\n",
       "      <td>52</td>\n",
       "      <td>masculin</td>\n",
       "      <td>C</td>\n",
       "      <td>172</td>\n",
       "      <td>199</td>\n",
       "      <td>B</td>\n",
       "      <td>A</td>\n",
       "      <td>162</td>\n",
       "      <td>non</td>\n",
       "      <td>5</td>\n",
       "      <td>1</td>\n",
       "      <td>A</td>\n",
       "      <td>absence</td>\n",
       "    </tr>\n",
       "    <tr>\n",
       "      <th>266</th>\n",
       "      <td>44</td>\n",
       "      <td>masculin</td>\n",
       "      <td>B</td>\n",
       "      <td>120</td>\n",
       "      <td>263</td>\n",
       "      <td>A</td>\n",
       "      <td>A</td>\n",
       "      <td>173</td>\n",
       "      <td>non</td>\n",
       "      <td>0</td>\n",
       "      <td>1</td>\n",
       "      <td>A</td>\n",
       "      <td>absence</td>\n",
       "    </tr>\n",
       "    <tr>\n",
       "      <th>267</th>\n",
       "      <td>56</td>\n",
       "      <td>feminin</td>\n",
       "      <td>B</td>\n",
       "      <td>140</td>\n",
       "      <td>294</td>\n",
       "      <td>A</td>\n",
       "      <td>C</td>\n",
       "      <td>153</td>\n",
       "      <td>non</td>\n",
       "      <td>13</td>\n",
       "      <td>2</td>\n",
       "      <td>A</td>\n",
       "      <td>absence</td>\n",
       "    </tr>\n",
       "    <tr>\n",
       "      <th>268</th>\n",
       "      <td>57</td>\n",
       "      <td>masculin</td>\n",
       "      <td>D</td>\n",
       "      <td>140</td>\n",
       "      <td>192</td>\n",
       "      <td>A</td>\n",
       "      <td>A</td>\n",
       "      <td>148</td>\n",
       "      <td>non</td>\n",
       "      <td>4</td>\n",
       "      <td>2</td>\n",
       "      <td>A</td>\n",
       "      <td>absence</td>\n",
       "    </tr>\n",
       "    <tr>\n",
       "      <th>269</th>\n",
       "      <td>67</td>\n",
       "      <td>masculin</td>\n",
       "      <td>D</td>\n",
       "      <td>160</td>\n",
       "      <td>286</td>\n",
       "      <td>A</td>\n",
       "      <td>C</td>\n",
       "      <td>108</td>\n",
       "      <td>oui</td>\n",
       "      <td>15</td>\n",
       "      <td>2</td>\n",
       "      <td>D</td>\n",
       "      <td>presence</td>\n",
       "    </tr>\n",
       "  </tbody>\n",
       "</table>\n",
       "</div>"
      ],
      "text/plain": [
       "     age      sexe type_douleur  pression  cholester sucre electro  taux_max  \\\n",
       "265   52  masculin            C       172        199     B       A       162   \n",
       "266   44  masculin            B       120        263     A       A       173   \n",
       "267   56   feminin            B       140        294     A       C       153   \n",
       "268   57  masculin            D       140        192     A       A       148   \n",
       "269   67  masculin            D       160        286     A       C       108   \n",
       "\n",
       "    angine  depression  pic vaisseau     coeur  \n",
       "265    non           5    1        A   absence  \n",
       "266    non           0    1        A   absence  \n",
       "267    non          13    2        A   absence  \n",
       "268    non           4    2        A   absence  \n",
       "269    oui          15    2        D  presence  "
      ]
     },
     "execution_count": 86,
     "metadata": {},
     "output_type": "execute_result"
    }
   ],
   "source": [
    "df.iloc[-5:,:]"
   ]
  },
  {
   "cell_type": "code",
   "execution_count": 30,
   "metadata": {},
   "outputs": [
    {
     "data": {
      "text/html": [
       "<div>\n",
       "<style scoped>\n",
       "    .dataframe tbody tr th:only-of-type {\n",
       "        vertical-align: middle;\n",
       "    }\n",
       "\n",
       "    .dataframe tbody tr th {\n",
       "        vertical-align: top;\n",
       "    }\n",
       "\n",
       "    .dataframe thead th {\n",
       "        text-align: right;\n",
       "    }\n",
       "</style>\n",
       "<table border=\"1\" class=\"dataframe\">\n",
       "  <thead>\n",
       "    <tr style=\"text-align: right;\">\n",
       "      <th></th>\n",
       "      <th>age</th>\n",
       "      <th>sexe</th>\n",
       "    </tr>\n",
       "  </thead>\n",
       "  <tbody>\n",
       "    <tr>\n",
       "      <th>0</th>\n",
       "      <td>70</td>\n",
       "      <td>masculin</td>\n",
       "    </tr>\n",
       "    <tr>\n",
       "      <th>1</th>\n",
       "      <td>67</td>\n",
       "      <td>feminin</td>\n",
       "    </tr>\n",
       "    <tr>\n",
       "      <th>2</th>\n",
       "      <td>57</td>\n",
       "      <td>masculin</td>\n",
       "    </tr>\n",
       "    <tr>\n",
       "      <th>3</th>\n",
       "      <td>64</td>\n",
       "      <td>masculin</td>\n",
       "    </tr>\n",
       "    <tr>\n",
       "      <th>4</th>\n",
       "      <td>74</td>\n",
       "      <td>feminin</td>\n",
       "    </tr>\n",
       "  </tbody>\n",
       "</table>\n",
       "</div>"
      ],
      "text/plain": [
       "   age      sexe\n",
       "0   70  masculin\n",
       "1   67   feminin\n",
       "2   57  masculin\n",
       "3   64  masculin\n",
       "4   74   feminin"
      ]
     },
     "execution_count": 30,
     "metadata": {},
     "output_type": "execute_result"
    }
   ],
   "source": [
    "df.iloc[0:5,0:2]"
   ]
  },
  {
   "cell_type": "code",
   "execution_count": 31,
   "metadata": {},
   "outputs": [
    {
     "data": {
      "text/html": [
       "<div>\n",
       "<style scoped>\n",
       "    .dataframe tbody tr th:only-of-type {\n",
       "        vertical-align: middle;\n",
       "    }\n",
       "\n",
       "    .dataframe tbody tr th {\n",
       "        vertical-align: top;\n",
       "    }\n",
       "\n",
       "    .dataframe thead th {\n",
       "        text-align: right;\n",
       "    }\n",
       "</style>\n",
       "<table border=\"1\" class=\"dataframe\">\n",
       "  <thead>\n",
       "    <tr style=\"text-align: right;\">\n",
       "      <th></th>\n",
       "      <th>age</th>\n",
       "      <th>sexe</th>\n",
       "      <th>cholester</th>\n",
       "    </tr>\n",
       "  </thead>\n",
       "  <tbody>\n",
       "    <tr>\n",
       "      <th>0</th>\n",
       "      <td>70</td>\n",
       "      <td>masculin</td>\n",
       "      <td>322</td>\n",
       "    </tr>\n",
       "    <tr>\n",
       "      <th>1</th>\n",
       "      <td>67</td>\n",
       "      <td>feminin</td>\n",
       "      <td>564</td>\n",
       "    </tr>\n",
       "    <tr>\n",
       "      <th>2</th>\n",
       "      <td>57</td>\n",
       "      <td>masculin</td>\n",
       "      <td>261</td>\n",
       "    </tr>\n",
       "    <tr>\n",
       "      <th>3</th>\n",
       "      <td>64</td>\n",
       "      <td>masculin</td>\n",
       "      <td>263</td>\n",
       "    </tr>\n",
       "    <tr>\n",
       "      <th>4</th>\n",
       "      <td>74</td>\n",
       "      <td>feminin</td>\n",
       "      <td>269</td>\n",
       "    </tr>\n",
       "  </tbody>\n",
       "</table>\n",
       "</div>"
      ],
      "text/plain": [
       "   age      sexe  cholester\n",
       "0   70  masculin        322\n",
       "1   67   feminin        564\n",
       "2   57  masculin        261\n",
       "3   64  masculin        263\n",
       "4   74   feminin        269"
      ]
     },
     "execution_count": 31,
     "metadata": {},
     "output_type": "execute_result"
    }
   ],
   "source": [
    "df.iloc[0:5,[0,1,4]]"
   ]
  },
  {
   "cell_type": "markdown",
   "metadata": {},
   "source": [
    "# Restrictions with conditions - queries"
   ]
  },
  {
   "cell_type": "markdown",
   "metadata": {},
   "source": [
    "We can isolate the subsets of observations meeting criteria defined on the fields. The .loc[,] method will preferably be used."
   ]
  },
  {
   "cell_type": "code",
   "execution_count": 32,
   "metadata": {},
   "outputs": [
    {
     "data": {
      "text/html": [
       "<div>\n",
       "<style scoped>\n",
       "    .dataframe tbody tr th:only-of-type {\n",
       "        vertical-align: middle;\n",
       "    }\n",
       "\n",
       "    .dataframe tbody tr th {\n",
       "        vertical-align: top;\n",
       "    }\n",
       "\n",
       "    .dataframe thead th {\n",
       "        text-align: right;\n",
       "    }\n",
       "</style>\n",
       "<table border=\"1\" class=\"dataframe\">\n",
       "  <thead>\n",
       "    <tr style=\"text-align: right;\">\n",
       "      <th></th>\n",
       "      <th>age</th>\n",
       "      <th>sexe</th>\n",
       "      <th>type_douleur</th>\n",
       "      <th>pression</th>\n",
       "      <th>cholester</th>\n",
       "      <th>sucre</th>\n",
       "      <th>electro</th>\n",
       "      <th>taux_max</th>\n",
       "      <th>angine</th>\n",
       "      <th>depression</th>\n",
       "      <th>pic</th>\n",
       "      <th>vaisseau</th>\n",
       "      <th>coeur</th>\n",
       "    </tr>\n",
       "  </thead>\n",
       "  <tbody>\n",
       "    <tr>\n",
       "      <th>13</th>\n",
       "      <td>61</td>\n",
       "      <td>masculin</td>\n",
       "      <td>A</td>\n",
       "      <td>134</td>\n",
       "      <td>234</td>\n",
       "      <td>A</td>\n",
       "      <td>A</td>\n",
       "      <td>145</td>\n",
       "      <td>non</td>\n",
       "      <td>26</td>\n",
       "      <td>2</td>\n",
       "      <td>C</td>\n",
       "      <td>presence</td>\n",
       "    </tr>\n",
       "    <tr>\n",
       "      <th>18</th>\n",
       "      <td>64</td>\n",
       "      <td>masculin</td>\n",
       "      <td>A</td>\n",
       "      <td>110</td>\n",
       "      <td>211</td>\n",
       "      <td>A</td>\n",
       "      <td>C</td>\n",
       "      <td>144</td>\n",
       "      <td>oui</td>\n",
       "      <td>18</td>\n",
       "      <td>2</td>\n",
       "      <td>A</td>\n",
       "      <td>absence</td>\n",
       "    </tr>\n",
       "    <tr>\n",
       "      <th>19</th>\n",
       "      <td>40</td>\n",
       "      <td>masculin</td>\n",
       "      <td>A</td>\n",
       "      <td>140</td>\n",
       "      <td>199</td>\n",
       "      <td>A</td>\n",
       "      <td>A</td>\n",
       "      <td>178</td>\n",
       "      <td>oui</td>\n",
       "      <td>14</td>\n",
       "      <td>1</td>\n",
       "      <td>A</td>\n",
       "      <td>absence</td>\n",
       "    </tr>\n",
       "    <tr>\n",
       "      <th>37</th>\n",
       "      <td>59</td>\n",
       "      <td>masculin</td>\n",
       "      <td>A</td>\n",
       "      <td>160</td>\n",
       "      <td>273</td>\n",
       "      <td>A</td>\n",
       "      <td>C</td>\n",
       "      <td>125</td>\n",
       "      <td>non</td>\n",
       "      <td>0</td>\n",
       "      <td>1</td>\n",
       "      <td>A</td>\n",
       "      <td>presence</td>\n",
       "    </tr>\n",
       "    <tr>\n",
       "      <th>63</th>\n",
       "      <td>60</td>\n",
       "      <td>feminin</td>\n",
       "      <td>A</td>\n",
       "      <td>150</td>\n",
       "      <td>240</td>\n",
       "      <td>A</td>\n",
       "      <td>A</td>\n",
       "      <td>171</td>\n",
       "      <td>non</td>\n",
       "      <td>9</td>\n",
       "      <td>1</td>\n",
       "      <td>A</td>\n",
       "      <td>absence</td>\n",
       "    </tr>\n",
       "    <tr>\n",
       "      <th>...</th>\n",
       "      <td>...</td>\n",
       "      <td>...</td>\n",
       "      <td>...</td>\n",
       "      <td>...</td>\n",
       "      <td>...</td>\n",
       "      <td>...</td>\n",
       "      <td>...</td>\n",
       "      <td>...</td>\n",
       "      <td>...</td>\n",
       "      <td>...</td>\n",
       "      <td>...</td>\n",
       "      <td>...</td>\n",
       "      <td>...</td>\n",
       "    </tr>\n",
       "    <tr>\n",
       "      <th>198</th>\n",
       "      <td>69</td>\n",
       "      <td>feminin</td>\n",
       "      <td>A</td>\n",
       "      <td>140</td>\n",
       "      <td>239</td>\n",
       "      <td>A</td>\n",
       "      <td>A</td>\n",
       "      <td>151</td>\n",
       "      <td>non</td>\n",
       "      <td>18</td>\n",
       "      <td>1</td>\n",
       "      <td>C</td>\n",
       "      <td>absence</td>\n",
       "    </tr>\n",
       "    <tr>\n",
       "      <th>205</th>\n",
       "      <td>52</td>\n",
       "      <td>masculin</td>\n",
       "      <td>A</td>\n",
       "      <td>152</td>\n",
       "      <td>298</td>\n",
       "      <td>B</td>\n",
       "      <td>A</td>\n",
       "      <td>178</td>\n",
       "      <td>non</td>\n",
       "      <td>12</td>\n",
       "      <td>2</td>\n",
       "      <td>A</td>\n",
       "      <td>absence</td>\n",
       "    </tr>\n",
       "    <tr>\n",
       "      <th>210</th>\n",
       "      <td>59</td>\n",
       "      <td>masculin</td>\n",
       "      <td>A</td>\n",
       "      <td>170</td>\n",
       "      <td>288</td>\n",
       "      <td>A</td>\n",
       "      <td>C</td>\n",
       "      <td>159</td>\n",
       "      <td>non</td>\n",
       "      <td>2</td>\n",
       "      <td>2</td>\n",
       "      <td>A</td>\n",
       "      <td>presence</td>\n",
       "    </tr>\n",
       "    <tr>\n",
       "      <th>228</th>\n",
       "      <td>58</td>\n",
       "      <td>feminin</td>\n",
       "      <td>A</td>\n",
       "      <td>150</td>\n",
       "      <td>283</td>\n",
       "      <td>B</td>\n",
       "      <td>C</td>\n",
       "      <td>162</td>\n",
       "      <td>non</td>\n",
       "      <td>10</td>\n",
       "      <td>1</td>\n",
       "      <td>A</td>\n",
       "      <td>absence</td>\n",
       "    </tr>\n",
       "    <tr>\n",
       "      <th>229</th>\n",
       "      <td>52</td>\n",
       "      <td>masculin</td>\n",
       "      <td>A</td>\n",
       "      <td>118</td>\n",
       "      <td>186</td>\n",
       "      <td>A</td>\n",
       "      <td>C</td>\n",
       "      <td>190</td>\n",
       "      <td>non</td>\n",
       "      <td>0</td>\n",
       "      <td>2</td>\n",
       "      <td>A</td>\n",
       "      <td>absence</td>\n",
       "    </tr>\n",
       "  </tbody>\n",
       "</table>\n",
       "<p>20 rows × 13 columns</p>\n",
       "</div>"
      ],
      "text/plain": [
       "     age      sexe type_douleur  pression  cholester sucre electro  taux_max  \\\n",
       "13    61  masculin            A       134        234     A       A       145   \n",
       "18    64  masculin            A       110        211     A       C       144   \n",
       "19    40  masculin            A       140        199     A       A       178   \n",
       "37    59  masculin            A       160        273     A       C       125   \n",
       "63    60   feminin            A       150        240     A       A       171   \n",
       "..   ...       ...          ...       ...        ...   ...     ...       ...   \n",
       "198   69   feminin            A       140        239     A       A       151   \n",
       "205   52  masculin            A       152        298     B       A       178   \n",
       "210   59  masculin            A       170        288     A       C       159   \n",
       "228   58   feminin            A       150        283     B       C       162   \n",
       "229   52  masculin            A       118        186     A       C       190   \n",
       "\n",
       "    angine  depression  pic vaisseau     coeur  \n",
       "13     non          26    2        C  presence  \n",
       "18     oui          18    2        A   absence  \n",
       "19     oui          14    1        A   absence  \n",
       "37     non           0    1        A  presence  \n",
       "63     non           9    1        A   absence  \n",
       "..     ...         ...  ...      ...       ...  \n",
       "198    non          18    1        C   absence  \n",
       "205    non          12    2        A   absence  \n",
       "210    non           2    2        A  presence  \n",
       "228    non          10    1        A   absence  \n",
       "229    non           0    2        A   absence  \n",
       "\n",
       "[20 rows x 13 columns]"
      ]
     },
     "execution_count": 32,
     "metadata": {},
     "output_type": "execute_result"
    }
   ],
   "source": [
    "df.loc[df['type_douleur']==\"A\",:]"
   ]
  },
  {
   "cell_type": "code",
   "execution_count": 87,
   "metadata": {},
   "outputs": [
    {
     "name": "stdout",
     "output_type": "stream",
     "text": [
      "0      False\n",
      "1      False\n",
      "2      False\n",
      "3      False\n",
      "4      False\n",
      "       ...  \n",
      "265    False\n",
      "266    False\n",
      "267    False\n",
      "268    False\n",
      "269    False\n",
      "Name: type_douleur, Length: 270, dtype: bool\n"
     ]
    }
   ],
   "source": [
    "print(df['type_douleur']==\"A\")"
   ]
  },
  {
   "cell_type": "markdown",
   "metadata": {},
   "source": [
    "Only observations corresponding to True are taken over by .loc[,]. We can count them"
   ]
  },
  {
   "cell_type": "code",
   "execution_count": 34,
   "metadata": {},
   "outputs": [
    {
     "name": "stdout",
     "output_type": "stream",
     "text": [
      "False    250\n",
      "True      20\n",
      "Name: type_douleur, dtype: int64\n"
     ]
    }
   ],
   "source": [
    "print((df['type_douleur']==\"A\").value_counts())"
   ]
  },
  {
   "cell_type": "code",
   "execution_count": 35,
   "metadata": {},
   "outputs": [
    {
     "data": {
      "text/html": [
       "<div>\n",
       "<style scoped>\n",
       "    .dataframe tbody tr th:only-of-type {\n",
       "        vertical-align: middle;\n",
       "    }\n",
       "\n",
       "    .dataframe tbody tr th {\n",
       "        vertical-align: top;\n",
       "    }\n",
       "\n",
       "    .dataframe thead th {\n",
       "        text-align: right;\n",
       "    }\n",
       "</style>\n",
       "<table border=\"1\" class=\"dataframe\">\n",
       "  <thead>\n",
       "    <tr style=\"text-align: right;\">\n",
       "      <th></th>\n",
       "      <th>age</th>\n",
       "      <th>sexe</th>\n",
       "      <th>type_douleur</th>\n",
       "      <th>pression</th>\n",
       "      <th>cholester</th>\n",
       "      <th>sucre</th>\n",
       "      <th>electro</th>\n",
       "      <th>taux_max</th>\n",
       "      <th>angine</th>\n",
       "      <th>depression</th>\n",
       "      <th>pic</th>\n",
       "      <th>vaisseau</th>\n",
       "      <th>coeur</th>\n",
       "    </tr>\n",
       "  </thead>\n",
       "  <tbody>\n",
       "    <tr>\n",
       "      <th>2</th>\n",
       "      <td>57</td>\n",
       "      <td>masculin</td>\n",
       "      <td>B</td>\n",
       "      <td>124</td>\n",
       "      <td>261</td>\n",
       "      <td>A</td>\n",
       "      <td>A</td>\n",
       "      <td>141</td>\n",
       "      <td>non</td>\n",
       "      <td>3</td>\n",
       "      <td>1</td>\n",
       "      <td>A</td>\n",
       "      <td>presence</td>\n",
       "    </tr>\n",
       "    <tr>\n",
       "      <th>4</th>\n",
       "      <td>74</td>\n",
       "      <td>feminin</td>\n",
       "      <td>B</td>\n",
       "      <td>120</td>\n",
       "      <td>269</td>\n",
       "      <td>A</td>\n",
       "      <td>C</td>\n",
       "      <td>121</td>\n",
       "      <td>oui</td>\n",
       "      <td>2</td>\n",
       "      <td>1</td>\n",
       "      <td>B</td>\n",
       "      <td>absence</td>\n",
       "    </tr>\n",
       "    <tr>\n",
       "      <th>13</th>\n",
       "      <td>61</td>\n",
       "      <td>masculin</td>\n",
       "      <td>A</td>\n",
       "      <td>134</td>\n",
       "      <td>234</td>\n",
       "      <td>A</td>\n",
       "      <td>A</td>\n",
       "      <td>145</td>\n",
       "      <td>non</td>\n",
       "      <td>26</td>\n",
       "      <td>2</td>\n",
       "      <td>C</td>\n",
       "      <td>presence</td>\n",
       "    </tr>\n",
       "    <tr>\n",
       "      <th>18</th>\n",
       "      <td>64</td>\n",
       "      <td>masculin</td>\n",
       "      <td>A</td>\n",
       "      <td>110</td>\n",
       "      <td>211</td>\n",
       "      <td>A</td>\n",
       "      <td>C</td>\n",
       "      <td>144</td>\n",
       "      <td>oui</td>\n",
       "      <td>18</td>\n",
       "      <td>2</td>\n",
       "      <td>A</td>\n",
       "      <td>absence</td>\n",
       "    </tr>\n",
       "    <tr>\n",
       "      <th>19</th>\n",
       "      <td>40</td>\n",
       "      <td>masculin</td>\n",
       "      <td>A</td>\n",
       "      <td>140</td>\n",
       "      <td>199</td>\n",
       "      <td>A</td>\n",
       "      <td>A</td>\n",
       "      <td>178</td>\n",
       "      <td>oui</td>\n",
       "      <td>14</td>\n",
       "      <td>1</td>\n",
       "      <td>A</td>\n",
       "      <td>absence</td>\n",
       "    </tr>\n",
       "    <tr>\n",
       "      <th>...</th>\n",
       "      <td>...</td>\n",
       "      <td>...</td>\n",
       "      <td>...</td>\n",
       "      <td>...</td>\n",
       "      <td>...</td>\n",
       "      <td>...</td>\n",
       "      <td>...</td>\n",
       "      <td>...</td>\n",
       "      <td>...</td>\n",
       "      <td>...</td>\n",
       "      <td>...</td>\n",
       "      <td>...</td>\n",
       "      <td>...</td>\n",
       "    </tr>\n",
       "    <tr>\n",
       "      <th>262</th>\n",
       "      <td>58</td>\n",
       "      <td>masculin</td>\n",
       "      <td>B</td>\n",
       "      <td>120</td>\n",
       "      <td>284</td>\n",
       "      <td>A</td>\n",
       "      <td>C</td>\n",
       "      <td>160</td>\n",
       "      <td>non</td>\n",
       "      <td>18</td>\n",
       "      <td>2</td>\n",
       "      <td>A</td>\n",
       "      <td>presence</td>\n",
       "    </tr>\n",
       "    <tr>\n",
       "      <th>263</th>\n",
       "      <td>49</td>\n",
       "      <td>masculin</td>\n",
       "      <td>B</td>\n",
       "      <td>130</td>\n",
       "      <td>266</td>\n",
       "      <td>A</td>\n",
       "      <td>A</td>\n",
       "      <td>171</td>\n",
       "      <td>non</td>\n",
       "      <td>6</td>\n",
       "      <td>1</td>\n",
       "      <td>A</td>\n",
       "      <td>absence</td>\n",
       "    </tr>\n",
       "    <tr>\n",
       "      <th>264</th>\n",
       "      <td>48</td>\n",
       "      <td>masculin</td>\n",
       "      <td>B</td>\n",
       "      <td>110</td>\n",
       "      <td>229</td>\n",
       "      <td>A</td>\n",
       "      <td>A</td>\n",
       "      <td>168</td>\n",
       "      <td>non</td>\n",
       "      <td>10</td>\n",
       "      <td>3</td>\n",
       "      <td>A</td>\n",
       "      <td>presence</td>\n",
       "    </tr>\n",
       "    <tr>\n",
       "      <th>266</th>\n",
       "      <td>44</td>\n",
       "      <td>masculin</td>\n",
       "      <td>B</td>\n",
       "      <td>120</td>\n",
       "      <td>263</td>\n",
       "      <td>A</td>\n",
       "      <td>A</td>\n",
       "      <td>173</td>\n",
       "      <td>non</td>\n",
       "      <td>0</td>\n",
       "      <td>1</td>\n",
       "      <td>A</td>\n",
       "      <td>absence</td>\n",
       "    </tr>\n",
       "    <tr>\n",
       "      <th>267</th>\n",
       "      <td>56</td>\n",
       "      <td>feminin</td>\n",
       "      <td>B</td>\n",
       "      <td>140</td>\n",
       "      <td>294</td>\n",
       "      <td>A</td>\n",
       "      <td>C</td>\n",
       "      <td>153</td>\n",
       "      <td>non</td>\n",
       "      <td>13</td>\n",
       "      <td>2</td>\n",
       "      <td>A</td>\n",
       "      <td>absence</td>\n",
       "    </tr>\n",
       "  </tbody>\n",
       "</table>\n",
       "<p>62 rows × 13 columns</p>\n",
       "</div>"
      ],
      "text/plain": [
       "     age      sexe type_douleur  pression  cholester sucre electro  taux_max  \\\n",
       "2     57  masculin            B       124        261     A       A       141   \n",
       "4     74   feminin            B       120        269     A       C       121   \n",
       "13    61  masculin            A       134        234     A       A       145   \n",
       "18    64  masculin            A       110        211     A       C       144   \n",
       "19    40  masculin            A       140        199     A       A       178   \n",
       "..   ...       ...          ...       ...        ...   ...     ...       ...   \n",
       "262   58  masculin            B       120        284     A       C       160   \n",
       "263   49  masculin            B       130        266     A       A       171   \n",
       "264   48  masculin            B       110        229     A       A       168   \n",
       "266   44  masculin            B       120        263     A       A       173   \n",
       "267   56   feminin            B       140        294     A       C       153   \n",
       "\n",
       "    angine  depression  pic vaisseau     coeur  \n",
       "2      non           3    1        A  presence  \n",
       "4      oui           2    1        B   absence  \n",
       "13     non          26    2        C  presence  \n",
       "18     oui          18    2        A   absence  \n",
       "19     oui          14    1        A   absence  \n",
       "..     ...         ...  ...      ...       ...  \n",
       "262    non          18    2        A  presence  \n",
       "263    non           6    1        A   absence  \n",
       "264    non          10    3        A  presence  \n",
       "266    non           0    1        A   absence  \n",
       "267    non          13    2        A   absence  \n",
       "\n",
       "[62 rows x 13 columns]"
      ]
     },
     "execution_count": 35,
     "metadata": {},
     "output_type": "execute_result"
    }
   ],
   "source": [
    "df.loc[df['type_douleur'].isin(['A','B']), :]"
   ]
  },
  {
   "cell_type": "code",
   "execution_count": 36,
   "metadata": {},
   "outputs": [
    {
     "data": {
      "text/html": [
       "<div>\n",
       "<style scoped>\n",
       "    .dataframe tbody tr th:only-of-type {\n",
       "        vertical-align: middle;\n",
       "    }\n",
       "\n",
       "    .dataframe tbody tr th {\n",
       "        vertical-align: top;\n",
       "    }\n",
       "\n",
       "    .dataframe thead th {\n",
       "        text-align: right;\n",
       "    }\n",
       "</style>\n",
       "<table border=\"1\" class=\"dataframe\">\n",
       "  <thead>\n",
       "    <tr style=\"text-align: right;\">\n",
       "      <th></th>\n",
       "      <th>age</th>\n",
       "      <th>sexe</th>\n",
       "      <th>type_douleur</th>\n",
       "      <th>pression</th>\n",
       "      <th>cholester</th>\n",
       "      <th>angine</th>\n",
       "      <th>coeur</th>\n",
       "    </tr>\n",
       "  </thead>\n",
       "  <tbody>\n",
       "    <tr>\n",
       "      <th>2</th>\n",
       "      <td>57</td>\n",
       "      <td>masculin</td>\n",
       "      <td>B</td>\n",
       "      <td>124</td>\n",
       "      <td>261</td>\n",
       "      <td>non</td>\n",
       "      <td>presence</td>\n",
       "    </tr>\n",
       "    <tr>\n",
       "      <th>4</th>\n",
       "      <td>74</td>\n",
       "      <td>feminin</td>\n",
       "      <td>B</td>\n",
       "      <td>120</td>\n",
       "      <td>269</td>\n",
       "      <td>oui</td>\n",
       "      <td>absence</td>\n",
       "    </tr>\n",
       "    <tr>\n",
       "      <th>13</th>\n",
       "      <td>61</td>\n",
       "      <td>masculin</td>\n",
       "      <td>A</td>\n",
       "      <td>134</td>\n",
       "      <td>234</td>\n",
       "      <td>non</td>\n",
       "      <td>presence</td>\n",
       "    </tr>\n",
       "    <tr>\n",
       "      <th>18</th>\n",
       "      <td>64</td>\n",
       "      <td>masculin</td>\n",
       "      <td>A</td>\n",
       "      <td>110</td>\n",
       "      <td>211</td>\n",
       "      <td>oui</td>\n",
       "      <td>absence</td>\n",
       "    </tr>\n",
       "    <tr>\n",
       "      <th>19</th>\n",
       "      <td>40</td>\n",
       "      <td>masculin</td>\n",
       "      <td>A</td>\n",
       "      <td>140</td>\n",
       "      <td>199</td>\n",
       "      <td>oui</td>\n",
       "      <td>absence</td>\n",
       "    </tr>\n",
       "    <tr>\n",
       "      <th>...</th>\n",
       "      <td>...</td>\n",
       "      <td>...</td>\n",
       "      <td>...</td>\n",
       "      <td>...</td>\n",
       "      <td>...</td>\n",
       "      <td>...</td>\n",
       "      <td>...</td>\n",
       "    </tr>\n",
       "    <tr>\n",
       "      <th>262</th>\n",
       "      <td>58</td>\n",
       "      <td>masculin</td>\n",
       "      <td>B</td>\n",
       "      <td>120</td>\n",
       "      <td>284</td>\n",
       "      <td>non</td>\n",
       "      <td>presence</td>\n",
       "    </tr>\n",
       "    <tr>\n",
       "      <th>263</th>\n",
       "      <td>49</td>\n",
       "      <td>masculin</td>\n",
       "      <td>B</td>\n",
       "      <td>130</td>\n",
       "      <td>266</td>\n",
       "      <td>non</td>\n",
       "      <td>absence</td>\n",
       "    </tr>\n",
       "    <tr>\n",
       "      <th>264</th>\n",
       "      <td>48</td>\n",
       "      <td>masculin</td>\n",
       "      <td>B</td>\n",
       "      <td>110</td>\n",
       "      <td>229</td>\n",
       "      <td>non</td>\n",
       "      <td>presence</td>\n",
       "    </tr>\n",
       "    <tr>\n",
       "      <th>266</th>\n",
       "      <td>44</td>\n",
       "      <td>masculin</td>\n",
       "      <td>B</td>\n",
       "      <td>120</td>\n",
       "      <td>263</td>\n",
       "      <td>non</td>\n",
       "      <td>absence</td>\n",
       "    </tr>\n",
       "    <tr>\n",
       "      <th>267</th>\n",
       "      <td>56</td>\n",
       "      <td>feminin</td>\n",
       "      <td>B</td>\n",
       "      <td>140</td>\n",
       "      <td>294</td>\n",
       "      <td>non</td>\n",
       "      <td>absence</td>\n",
       "    </tr>\n",
       "  </tbody>\n",
       "</table>\n",
       "<p>62 rows × 7 columns</p>\n",
       "</div>"
      ],
      "text/plain": [
       "     age      sexe type_douleur  pression  cholester angine     coeur\n",
       "2     57  masculin            B       124        261    non  presence\n",
       "4     74   feminin            B       120        269    oui   absence\n",
       "13    61  masculin            A       134        234    non  presence\n",
       "18    64  masculin            A       110        211    oui   absence\n",
       "19    40  masculin            A       140        199    oui   absence\n",
       "..   ...       ...          ...       ...        ...    ...       ...\n",
       "262   58  masculin            B       120        284    non  presence\n",
       "263   49  masculin            B       130        266    non   absence\n",
       "264   48  masculin            B       110        229    non  presence\n",
       "266   44  masculin            B       120        263    non   absence\n",
       "267   56   feminin            B       140        294    non   absence\n",
       "\n",
       "[62 rows x 7 columns]"
      ]
     },
     "execution_count": 36,
     "metadata": {},
     "output_type": "execute_result"
    }
   ],
   "source": [
    "colonnes = ['age','sexe','type_douleur','pression','cholester','angine','coeur']\n",
    "df.loc[df['type_douleur'].isin(['A','B']), colonnes]"
   ]
  },
  {
   "cell_type": "markdown",
   "metadata": {},
   "source": [
    "Logical operators allows to combine conditions. We use respectively: & for AND, | for OR and ~ for negation."
   ]
  },
  {
   "cell_type": "code",
   "execution_count": 37,
   "metadata": {},
   "outputs": [
    {
     "data": {
      "text/html": [
       "<div>\n",
       "<style scoped>\n",
       "    .dataframe tbody tr th:only-of-type {\n",
       "        vertical-align: middle;\n",
       "    }\n",
       "\n",
       "    .dataframe tbody tr th {\n",
       "        vertical-align: top;\n",
       "    }\n",
       "\n",
       "    .dataframe thead th {\n",
       "        text-align: right;\n",
       "    }\n",
       "</style>\n",
       "<table border=\"1\" class=\"dataframe\">\n",
       "  <thead>\n",
       "    <tr style=\"text-align: right;\">\n",
       "      <th></th>\n",
       "      <th>age</th>\n",
       "      <th>sexe</th>\n",
       "      <th>type_douleur</th>\n",
       "      <th>pression</th>\n",
       "      <th>cholester</th>\n",
       "      <th>angine</th>\n",
       "      <th>coeur</th>\n",
       "    </tr>\n",
       "  </thead>\n",
       "  <tbody>\n",
       "    <tr>\n",
       "      <th>18</th>\n",
       "      <td>64</td>\n",
       "      <td>masculin</td>\n",
       "      <td>A</td>\n",
       "      <td>110</td>\n",
       "      <td>211</td>\n",
       "      <td>oui</td>\n",
       "      <td>absence</td>\n",
       "    </tr>\n",
       "    <tr>\n",
       "      <th>19</th>\n",
       "      <td>40</td>\n",
       "      <td>masculin</td>\n",
       "      <td>A</td>\n",
       "      <td>140</td>\n",
       "      <td>199</td>\n",
       "      <td>oui</td>\n",
       "      <td>absence</td>\n",
       "    </tr>\n",
       "    <tr>\n",
       "      <th>143</th>\n",
       "      <td>51</td>\n",
       "      <td>masculin</td>\n",
       "      <td>A</td>\n",
       "      <td>125</td>\n",
       "      <td>213</td>\n",
       "      <td>oui</td>\n",
       "      <td>absence</td>\n",
       "    </tr>\n",
       "    <tr>\n",
       "      <th>160</th>\n",
       "      <td>38</td>\n",
       "      <td>masculin</td>\n",
       "      <td>A</td>\n",
       "      <td>120</td>\n",
       "      <td>231</td>\n",
       "      <td>oui</td>\n",
       "      <td>presence</td>\n",
       "    </tr>\n",
       "  </tbody>\n",
       "</table>\n",
       "</div>"
      ],
      "text/plain": [
       "     age      sexe type_douleur  pression  cholester angine     coeur\n",
       "18    64  masculin            A       110        211    oui   absence\n",
       "19    40  masculin            A       140        199    oui   absence\n",
       "143   51  masculin            A       125        213    oui   absence\n",
       "160   38  masculin            A       120        231    oui  presence"
      ]
     },
     "execution_count": 37,
     "metadata": {},
     "output_type": "execute_result"
    }
   ],
   "source": [
    "df.loc[(df['type_douleur']==\"A\") & (df['angine']==\"oui\"),colonnes]"
   ]
  },
  {
   "cell_type": "code",
   "execution_count": 38,
   "metadata": {},
   "outputs": [
    {
     "data": {
      "text/html": [
       "<div>\n",
       "<style scoped>\n",
       "    .dataframe tbody tr th:only-of-type {\n",
       "        vertical-align: middle;\n",
       "    }\n",
       "\n",
       "    .dataframe tbody tr th {\n",
       "        vertical-align: top;\n",
       "    }\n",
       "\n",
       "    .dataframe thead th {\n",
       "        text-align: right;\n",
       "    }\n",
       "</style>\n",
       "<table border=\"1\" class=\"dataframe\">\n",
       "  <thead>\n",
       "    <tr style=\"text-align: right;\">\n",
       "      <th></th>\n",
       "      <th>age</th>\n",
       "      <th>sexe</th>\n",
       "      <th>type_douleur</th>\n",
       "      <th>pression</th>\n",
       "      <th>cholester</th>\n",
       "      <th>angine</th>\n",
       "      <th>coeur</th>\n",
       "    </tr>\n",
       "  </thead>\n",
       "  <tbody>\n",
       "    <tr>\n",
       "      <th>40</th>\n",
       "      <td>40</td>\n",
       "      <td>masculin</td>\n",
       "      <td>D</td>\n",
       "      <td>152</td>\n",
       "      <td>223</td>\n",
       "      <td>non</td>\n",
       "      <td>presence</td>\n",
       "    </tr>\n",
       "    <tr>\n",
       "      <th>47</th>\n",
       "      <td>44</td>\n",
       "      <td>masculin</td>\n",
       "      <td>D</td>\n",
       "      <td>110</td>\n",
       "      <td>197</td>\n",
       "      <td>non</td>\n",
       "      <td>presence</td>\n",
       "    </tr>\n",
       "    <tr>\n",
       "      <th>50</th>\n",
       "      <td>42</td>\n",
       "      <td>masculin</td>\n",
       "      <td>D</td>\n",
       "      <td>136</td>\n",
       "      <td>315</td>\n",
       "      <td>oui</td>\n",
       "      <td>presence</td>\n",
       "    </tr>\n",
       "    <tr>\n",
       "      <th>81</th>\n",
       "      <td>35</td>\n",
       "      <td>masculin</td>\n",
       "      <td>D</td>\n",
       "      <td>120</td>\n",
       "      <td>198</td>\n",
       "      <td>oui</td>\n",
       "      <td>presence</td>\n",
       "    </tr>\n",
       "    <tr>\n",
       "      <th>147</th>\n",
       "      <td>40</td>\n",
       "      <td>masculin</td>\n",
       "      <td>D</td>\n",
       "      <td>110</td>\n",
       "      <td>167</td>\n",
       "      <td>oui</td>\n",
       "      <td>presence</td>\n",
       "    </tr>\n",
       "    <tr>\n",
       "      <th>...</th>\n",
       "      <td>...</td>\n",
       "      <td>...</td>\n",
       "      <td>...</td>\n",
       "      <td>...</td>\n",
       "      <td>...</td>\n",
       "      <td>...</td>\n",
       "      <td>...</td>\n",
       "    </tr>\n",
       "    <tr>\n",
       "      <th>182</th>\n",
       "      <td>41</td>\n",
       "      <td>masculin</td>\n",
       "      <td>D</td>\n",
       "      <td>110</td>\n",
       "      <td>172</td>\n",
       "      <td>non</td>\n",
       "      <td>presence</td>\n",
       "    </tr>\n",
       "    <tr>\n",
       "      <th>193</th>\n",
       "      <td>35</td>\n",
       "      <td>masculin</td>\n",
       "      <td>D</td>\n",
       "      <td>126</td>\n",
       "      <td>282</td>\n",
       "      <td>oui</td>\n",
       "      <td>presence</td>\n",
       "    </tr>\n",
       "    <tr>\n",
       "      <th>231</th>\n",
       "      <td>39</td>\n",
       "      <td>masculin</td>\n",
       "      <td>D</td>\n",
       "      <td>118</td>\n",
       "      <td>219</td>\n",
       "      <td>non</td>\n",
       "      <td>presence</td>\n",
       "    </tr>\n",
       "    <tr>\n",
       "      <th>237</th>\n",
       "      <td>43</td>\n",
       "      <td>masculin</td>\n",
       "      <td>D</td>\n",
       "      <td>120</td>\n",
       "      <td>177</td>\n",
       "      <td>oui</td>\n",
       "      <td>presence</td>\n",
       "    </tr>\n",
       "    <tr>\n",
       "      <th>252</th>\n",
       "      <td>44</td>\n",
       "      <td>masculin</td>\n",
       "      <td>D</td>\n",
       "      <td>112</td>\n",
       "      <td>290</td>\n",
       "      <td>non</td>\n",
       "      <td>presence</td>\n",
       "    </tr>\n",
       "  </tbody>\n",
       "</table>\n",
       "<p>11 rows × 7 columns</p>\n",
       "</div>"
      ],
      "text/plain": [
       "     age      sexe type_douleur  pression  cholester angine     coeur\n",
       "40    40  masculin            D       152        223    non  presence\n",
       "47    44  masculin            D       110        197    non  presence\n",
       "50    42  masculin            D       136        315    oui  presence\n",
       "81    35  masculin            D       120        198    oui  presence\n",
       "147   40  masculin            D       110        167    oui  presence\n",
       "..   ...       ...          ...       ...        ...    ...       ...\n",
       "182   41  masculin            D       110        172    non  presence\n",
       "193   35  masculin            D       126        282    oui  presence\n",
       "231   39  masculin            D       118        219    non  presence\n",
       "237   43  masculin            D       120        177    oui  presence\n",
       "252   44  masculin            D       112        290    non  presence\n",
       "\n",
       "[11 rows x 7 columns]"
      ]
     },
     "execution_count": 38,
     "metadata": {},
     "output_type": "execute_result"
    }
   ],
   "source": [
    "df.loc[(df['age']<45) & (df['sexe']==\"masculin\") & (df['coeur']==\"presence\"),colonnes]"
   ]
  },
  {
   "cell_type": "markdown",
   "metadata": {},
   "source": [
    "# Summary calculations - Crossing variables"
   ]
  },
  {
   "cell_type": "markdown",
   "metadata": {},
   "source": [
    "It is possible to crosses and perform summary calculations, which range from simple counting to statistical calculations involving several variables."
   ]
  },
  {
   "cell_type": "code",
   "execution_count": 39,
   "metadata": {},
   "outputs": [
    {
     "data": {
      "text/html": [
       "<div>\n",
       "<style scoped>\n",
       "    .dataframe tbody tr th:only-of-type {\n",
       "        vertical-align: middle;\n",
       "    }\n",
       "\n",
       "    .dataframe tbody tr th {\n",
       "        vertical-align: top;\n",
       "    }\n",
       "\n",
       "    .dataframe thead th {\n",
       "        text-align: right;\n",
       "    }\n",
       "</style>\n",
       "<table border=\"1\" class=\"dataframe\">\n",
       "  <thead>\n",
       "    <tr style=\"text-align: right;\">\n",
       "      <th>coeur</th>\n",
       "      <th>absence</th>\n",
       "      <th>presence</th>\n",
       "    </tr>\n",
       "    <tr>\n",
       "      <th>sexe</th>\n",
       "      <th></th>\n",
       "      <th></th>\n",
       "    </tr>\n",
       "  </thead>\n",
       "  <tbody>\n",
       "    <tr>\n",
       "      <th>feminin</th>\n",
       "      <td>67</td>\n",
       "      <td>20</td>\n",
       "    </tr>\n",
       "    <tr>\n",
       "      <th>masculin</th>\n",
       "      <td>83</td>\n",
       "      <td>100</td>\n",
       "    </tr>\n",
       "  </tbody>\n",
       "</table>\n",
       "</div>"
      ],
      "text/plain": [
       "coeur     absence  presence\n",
       "sexe                       \n",
       "feminin        67        20\n",
       "masculin       83       100"
      ]
     },
     "execution_count": 39,
     "metadata": {},
     "output_type": "execute_result"
    }
   ],
   "source": [
    "pandas.crosstab(df['sexe'],df['coeur'])"
   ]
  },
  {
   "cell_type": "code",
   "execution_count": 40,
   "metadata": {},
   "outputs": [
    {
     "data": {
      "text/html": [
       "<div>\n",
       "<style scoped>\n",
       "    .dataframe tbody tr th:only-of-type {\n",
       "        vertical-align: middle;\n",
       "    }\n",
       "\n",
       "    .dataframe tbody tr th {\n",
       "        vertical-align: top;\n",
       "    }\n",
       "\n",
       "    .dataframe thead th {\n",
       "        text-align: right;\n",
       "    }\n",
       "</style>\n",
       "<table border=\"1\" class=\"dataframe\">\n",
       "  <thead>\n",
       "    <tr style=\"text-align: right;\">\n",
       "      <th>coeur</th>\n",
       "      <th>absence</th>\n",
       "      <th>presence</th>\n",
       "    </tr>\n",
       "    <tr>\n",
       "      <th>sexe</th>\n",
       "      <th></th>\n",
       "      <th></th>\n",
       "    </tr>\n",
       "  </thead>\n",
       "  <tbody>\n",
       "    <tr>\n",
       "      <th>feminin</th>\n",
       "      <td>0.770115</td>\n",
       "      <td>0.229885</td>\n",
       "    </tr>\n",
       "    <tr>\n",
       "      <th>masculin</th>\n",
       "      <td>0.453552</td>\n",
       "      <td>0.546448</td>\n",
       "    </tr>\n",
       "  </tbody>\n",
       "</table>\n",
       "</div>"
      ],
      "text/plain": [
       "coeur      absence  presence\n",
       "sexe                        \n",
       "feminin   0.770115  0.229885\n",
       "masculin  0.453552  0.546448"
      ]
     },
     "execution_count": 40,
     "metadata": {},
     "output_type": "execute_result"
    }
   ],
   "source": [
    "pandas.crosstab(df['sexe'],df['coeur'],normalize='index')"
   ]
  },
  {
   "cell_type": "code",
   "execution_count": 92,
   "metadata": {},
   "outputs": [
    {
     "data": {
      "text/plain": [
       "0.7701149425287356"
      ]
     },
     "execution_count": 92,
     "metadata": {},
     "output_type": "execute_result"
    }
   ],
   "source": [
    "67/87"
   ]
  },
  {
   "cell_type": "markdown",
   "metadata": {},
   "source": [
    "We can also calculate, for example, the average of 'age' according to 'sexe' and 'coeur'."
   ]
  },
  {
   "cell_type": "code",
   "execution_count": 94,
   "metadata": {},
   "outputs": [
    {
     "data": {
      "text/html": [
       "<div>\n",
       "<style scoped>\n",
       "    .dataframe tbody tr th:only-of-type {\n",
       "        vertical-align: middle;\n",
       "    }\n",
       "\n",
       "    .dataframe tbody tr th {\n",
       "        vertical-align: top;\n",
       "    }\n",
       "\n",
       "    .dataframe thead th {\n",
       "        text-align: right;\n",
       "    }\n",
       "</style>\n",
       "<table border=\"1\" class=\"dataframe\">\n",
       "  <thead>\n",
       "    <tr style=\"text-align: right;\">\n",
       "      <th>coeur</th>\n",
       "      <th>absence</th>\n",
       "      <th>presence</th>\n",
       "    </tr>\n",
       "    <tr>\n",
       "      <th>sexe</th>\n",
       "      <th></th>\n",
       "      <th></th>\n",
       "    </tr>\n",
       "  </thead>\n",
       "  <tbody>\n",
       "    <tr>\n",
       "      <th>feminin</th>\n",
       "      <td>54.582090</td>\n",
       "      <td>59.35</td>\n",
       "    </tr>\n",
       "    <tr>\n",
       "      <th>masculin</th>\n",
       "      <td>51.192771</td>\n",
       "      <td>56.04</td>\n",
       "    </tr>\n",
       "  </tbody>\n",
       "</table>\n",
       "</div>"
      ],
      "text/plain": [
       "coeur       absence  presence\n",
       "sexe                         \n",
       "feminin   54.582090     59.35\n",
       "masculin  51.192771     56.04"
      ]
     },
     "execution_count": 94,
     "metadata": {},
     "output_type": "execute_result"
    }
   ],
   "source": [
    "pandas.crosstab(df['sexe'],df['coeur'], values=df['age'],aggfunc=pandas.Series.mean)"
   ]
  },
  {
   "cell_type": "code",
   "execution_count": 42,
   "metadata": {},
   "outputs": [
    {
     "data": {
      "text/html": [
       "<div>\n",
       "<style scoped>\n",
       "    .dataframe tbody tr th:only-of-type {\n",
       "        vertical-align: middle;\n",
       "    }\n",
       "\n",
       "    .dataframe tbody tr th {\n",
       "        vertical-align: top;\n",
       "    }\n",
       "\n",
       "    .dataframe thead tr th {\n",
       "        text-align: left;\n",
       "    }\n",
       "\n",
       "    .dataframe thead tr:last-of-type th {\n",
       "        text-align: right;\n",
       "    }\n",
       "</style>\n",
       "<table border=\"1\" class=\"dataframe\">\n",
       "  <thead>\n",
       "    <tr>\n",
       "      <th></th>\n",
       "      <th colspan=\"2\" halign=\"left\">age</th>\n",
       "    </tr>\n",
       "    <tr>\n",
       "      <th>coeur</th>\n",
       "      <th>absence</th>\n",
       "      <th>presence</th>\n",
       "    </tr>\n",
       "    <tr>\n",
       "      <th>sexe</th>\n",
       "      <th></th>\n",
       "      <th></th>\n",
       "    </tr>\n",
       "  </thead>\n",
       "  <tbody>\n",
       "    <tr>\n",
       "      <th>feminin</th>\n",
       "      <td>54.582090</td>\n",
       "      <td>59.35</td>\n",
       "    </tr>\n",
       "    <tr>\n",
       "      <th>masculin</th>\n",
       "      <td>51.192771</td>\n",
       "      <td>56.04</td>\n",
       "    </tr>\n",
       "  </tbody>\n",
       "</table>\n",
       "</div>"
      ],
      "text/plain": [
       "                age         \n",
       "coeur       absence presence\n",
       "sexe                        \n",
       "feminin   54.582090    59.35\n",
       "masculin  51.192771    56.04"
      ]
     },
     "execution_count": 42,
     "metadata": {},
     "output_type": "execute_result"
    }
   ],
   "source": [
    "df.pivot_table(index=['sexe'],columns=['coeur'],values=['age'],aggfunc=pandas.Series.mean)"
   ]
  },
  {
   "cell_type": "code",
   "execution_count": 97,
   "metadata": {},
   "outputs": [
    {
     "data": {
      "text/html": [
       "<div>\n",
       "<style scoped>\n",
       "    .dataframe tbody tr th:only-of-type {\n",
       "        vertical-align: middle;\n",
       "    }\n",
       "\n",
       "    .dataframe tbody tr th {\n",
       "        vertical-align: top;\n",
       "    }\n",
       "\n",
       "    .dataframe thead th {\n",
       "        text-align: right;\n",
       "    }\n",
       "</style>\n",
       "<table border=\"1\" class=\"dataframe\">\n",
       "  <thead>\n",
       "    <tr style=\"text-align: right;\">\n",
       "      <th></th>\n",
       "      <th>coeur</th>\n",
       "      <th>absence</th>\n",
       "      <th>presence</th>\n",
       "    </tr>\n",
       "    <tr>\n",
       "      <th>sexe</th>\n",
       "      <th>sucre</th>\n",
       "      <th></th>\n",
       "      <th></th>\n",
       "    </tr>\n",
       "  </thead>\n",
       "  <tbody>\n",
       "    <tr>\n",
       "      <th rowspan=\"2\" valign=\"top\">feminin</th>\n",
       "      <th>A</th>\n",
       "      <td>61</td>\n",
       "      <td>15</td>\n",
       "    </tr>\n",
       "    <tr>\n",
       "      <th>B</th>\n",
       "      <td>6</td>\n",
       "      <td>5</td>\n",
       "    </tr>\n",
       "    <tr>\n",
       "      <th rowspan=\"2\" valign=\"top\">masculin</th>\n",
       "      <th>A</th>\n",
       "      <td>66</td>\n",
       "      <td>88</td>\n",
       "    </tr>\n",
       "    <tr>\n",
       "      <th>B</th>\n",
       "      <td>17</td>\n",
       "      <td>12</td>\n",
       "    </tr>\n",
       "  </tbody>\n",
       "</table>\n",
       "</div>"
      ],
      "text/plain": [
       "coeur           absence  presence\n",
       "sexe     sucre                   \n",
       "feminin  A           61        15\n",
       "         B            6         5\n",
       "masculin A           66        88\n",
       "         B           17        12"
      ]
     },
     "execution_count": 97,
     "metadata": {},
     "output_type": "execute_result"
    }
   ],
   "source": [
    "pandas.crosstab([df['sexe'],df['sucre']],df['coeur'])"
   ]
  },
  {
   "cell_type": "code",
   "execution_count": 98,
   "metadata": {},
   "outputs": [
    {
     "data": {
      "text/html": [
       "<div>\n",
       "<style scoped>\n",
       "    .dataframe tbody tr th:only-of-type {\n",
       "        vertical-align: middle;\n",
       "    }\n",
       "\n",
       "    .dataframe tbody tr th {\n",
       "        vertical-align: top;\n",
       "    }\n",
       "\n",
       "    .dataframe thead th {\n",
       "        text-align: right;\n",
       "    }\n",
       "</style>\n",
       "<table border=\"1\" class=\"dataframe\">\n",
       "  <thead>\n",
       "    <tr style=\"text-align: right;\">\n",
       "      <th></th>\n",
       "      <th></th>\n",
       "      <th>coeur</th>\n",
       "      <th>absence</th>\n",
       "      <th>presence</th>\n",
       "    </tr>\n",
       "    <tr>\n",
       "      <th>sexe</th>\n",
       "      <th>sucre</th>\n",
       "      <th>angine</th>\n",
       "      <th></th>\n",
       "      <th></th>\n",
       "    </tr>\n",
       "  </thead>\n",
       "  <tbody>\n",
       "    <tr>\n",
       "      <th rowspan=\"4\" valign=\"top\">feminin</th>\n",
       "      <th rowspan=\"2\" valign=\"top\">A</th>\n",
       "      <th>non</th>\n",
       "      <td>54</td>\n",
       "      <td>8</td>\n",
       "    </tr>\n",
       "    <tr>\n",
       "      <th>oui</th>\n",
       "      <td>7</td>\n",
       "      <td>7</td>\n",
       "    </tr>\n",
       "    <tr>\n",
       "      <th rowspan=\"2\" valign=\"top\">B</th>\n",
       "      <th>non</th>\n",
       "      <td>5</td>\n",
       "      <td>2</td>\n",
       "    </tr>\n",
       "    <tr>\n",
       "      <th>oui</th>\n",
       "      <td>1</td>\n",
       "      <td>3</td>\n",
       "    </tr>\n",
       "    <tr>\n",
       "      <th rowspan=\"4\" valign=\"top\">masculin</th>\n",
       "      <th rowspan=\"2\" valign=\"top\">A</th>\n",
       "      <th>non</th>\n",
       "      <td>52</td>\n",
       "      <td>40</td>\n",
       "    </tr>\n",
       "    <tr>\n",
       "      <th>oui</th>\n",
       "      <td>14</td>\n",
       "      <td>48</td>\n",
       "    </tr>\n",
       "    <tr>\n",
       "      <th rowspan=\"2\" valign=\"top\">B</th>\n",
       "      <th>non</th>\n",
       "      <td>16</td>\n",
       "      <td>4</td>\n",
       "    </tr>\n",
       "    <tr>\n",
       "      <th>oui</th>\n",
       "      <td>1</td>\n",
       "      <td>8</td>\n",
       "    </tr>\n",
       "  </tbody>\n",
       "</table>\n",
       "</div>"
      ],
      "text/plain": [
       "coeur                  absence  presence\n",
       "sexe     sucre angine                   \n",
       "feminin  A     non          54         8\n",
       "               oui           7         7\n",
       "         B     non           5         2\n",
       "               oui           1         3\n",
       "masculin A     non          52        40\n",
       "               oui          14        48\n",
       "         B     non          16         4\n",
       "               oui           1         8"
      ]
     },
     "execution_count": 98,
     "metadata": {},
     "output_type": "execute_result"
    }
   ],
   "source": [
    "pandas.crosstab([df['sexe'],df['sucre'],df['angine']],df['coeur'])"
   ]
  },
  {
   "cell_type": "code",
   "execution_count": 44,
   "metadata": {},
   "outputs": [
    {
     "data": {
      "text/html": [
       "<div>\n",
       "<style scoped>\n",
       "    .dataframe tbody tr th:only-of-type {\n",
       "        vertical-align: middle;\n",
       "    }\n",
       "\n",
       "    .dataframe tbody tr th {\n",
       "        vertical-align: top;\n",
       "    }\n",
       "\n",
       "    .dataframe thead th {\n",
       "        text-align: right;\n",
       "    }\n",
       "</style>\n",
       "<table border=\"1\" class=\"dataframe\">\n",
       "  <thead>\n",
       "    <tr style=\"text-align: right;\">\n",
       "      <th></th>\n",
       "      <th>coeur</th>\n",
       "      <th>absence</th>\n",
       "      <th>presence</th>\n",
       "    </tr>\n",
       "    <tr>\n",
       "      <th>sexe</th>\n",
       "      <th>sucre</th>\n",
       "      <th></th>\n",
       "      <th></th>\n",
       "    </tr>\n",
       "  </thead>\n",
       "  <tbody>\n",
       "    <tr>\n",
       "      <th rowspan=\"2\" valign=\"top\">feminin</th>\n",
       "      <th>A</th>\n",
       "      <td>0.802632</td>\n",
       "      <td>0.197368</td>\n",
       "    </tr>\n",
       "    <tr>\n",
       "      <th>B</th>\n",
       "      <td>0.545455</td>\n",
       "      <td>0.454545</td>\n",
       "    </tr>\n",
       "    <tr>\n",
       "      <th rowspan=\"2\" valign=\"top\">masculin</th>\n",
       "      <th>A</th>\n",
       "      <td>0.428571</td>\n",
       "      <td>0.571429</td>\n",
       "    </tr>\n",
       "    <tr>\n",
       "      <th>B</th>\n",
       "      <td>0.586207</td>\n",
       "      <td>0.413793</td>\n",
       "    </tr>\n",
       "  </tbody>\n",
       "</table>\n",
       "</div>"
      ],
      "text/plain": [
       "coeur            absence  presence\n",
       "sexe     sucre                    \n",
       "feminin  A      0.802632  0.197368\n",
       "         B      0.545455  0.454545\n",
       "masculin A      0.428571  0.571429\n",
       "         B      0.586207  0.413793"
      ]
     },
     "execution_count": 44,
     "metadata": {},
     "output_type": "execute_result"
    }
   ],
   "source": [
    "pandas.crosstab([df['sexe'],df['sucre']],df['coeur'],normalize='index')"
   ]
  },
  {
   "cell_type": "markdown",
   "metadata": {},
   "source": [
    "The use of groupby () allows access to the sub-DataFrame associated with each item of the grouping variable. It is therefore possible to explicitly apply other processing operations to these data subsets."
   ]
  },
  {
   "cell_type": "code",
   "execution_count": 103,
   "metadata": {},
   "outputs": [
    {
     "name": "stdout",
     "output_type": "stream",
     "text": [
      "<pandas.core.groupby.generic.DataFrameGroupBy object at 0x000002D73B724FA0>\n",
      "(183, 13)\n"
     ]
    }
   ],
   "source": [
    "g=df.groupby('sexe')\n",
    "print(g)\n",
    "\n",
    "print(g.get_group('masculin').shape)"
   ]
  },
  {
   "cell_type": "code",
   "execution_count": 46,
   "metadata": {},
   "outputs": [
    {
     "data": {
      "text/html": [
       "<div>\n",
       "<style scoped>\n",
       "    .dataframe tbody tr th:only-of-type {\n",
       "        vertical-align: middle;\n",
       "    }\n",
       "\n",
       "    .dataframe tbody tr th {\n",
       "        vertical-align: top;\n",
       "    }\n",
       "\n",
       "    .dataframe thead th {\n",
       "        text-align: right;\n",
       "    }\n",
       "</style>\n",
       "<table border=\"1\" class=\"dataframe\">\n",
       "  <thead>\n",
       "    <tr style=\"text-align: right;\">\n",
       "      <th></th>\n",
       "      <th>age</th>\n",
       "      <th>pression</th>\n",
       "      <th>cholester</th>\n",
       "      <th>taux_max</th>\n",
       "      <th>depression</th>\n",
       "      <th>pic</th>\n",
       "    </tr>\n",
       "    <tr>\n",
       "      <th>sexe</th>\n",
       "      <th></th>\n",
       "      <th></th>\n",
       "      <th></th>\n",
       "      <th></th>\n",
       "      <th></th>\n",
       "      <th></th>\n",
       "    </tr>\n",
       "  </thead>\n",
       "  <tbody>\n",
       "    <tr>\n",
       "      <th>feminin</th>\n",
       "      <td>55.678161</td>\n",
       "      <td>132.965517</td>\n",
       "      <td>264.747126</td>\n",
       "      <td>152.229885</td>\n",
       "      <td>8.885057</td>\n",
       "      <td>1.540230</td>\n",
       "    </tr>\n",
       "    <tr>\n",
       "      <th>masculin</th>\n",
       "      <td>53.841530</td>\n",
       "      <td>130.573770</td>\n",
       "      <td>242.486339</td>\n",
       "      <td>148.464481</td>\n",
       "      <td>11.267760</td>\n",
       "      <td>1.606557</td>\n",
       "    </tr>\n",
       "  </tbody>\n",
       "</table>\n",
       "</div>"
      ],
      "text/plain": [
       "                age    pression   cholester    taux_max  depression       pic\n",
       "sexe                                                                         \n",
       "feminin   55.678161  132.965517  264.747126  152.229885    8.885057  1.540230\n",
       "masculin  53.841530  130.573770  242.486339  148.464481   11.267760  1.606557"
      ]
     },
     "execution_count": 46,
     "metadata": {},
     "output_type": "execute_result"
    }
   ],
   "source": [
    "g.mean()"
   ]
  },
  {
   "cell_type": "code",
   "execution_count": 47,
   "metadata": {},
   "outputs": [
    {
     "name": "stdout",
     "output_type": "stream",
     "text": [
      "53.84153005464481\n"
     ]
    }
   ],
   "source": [
    "print(g.get_group('masculin')['age'].mean())"
   ]
  },
  {
   "cell_type": "markdown",
   "metadata": {},
   "source": [
    "We can apply different functions\n",
    "$$mean:=m=\\frac{1}{n}\\sum_{i=1}^nx_i,\\;variance:=var=\\frac{1}{n-1}\\sum_{i=1}^n\\left(x_i-m\\right)^2,\\;ecart\\_type:=std=\\sqrt{var}$$"
   ]
  },
  {
   "cell_type": "code",
   "execution_count": 48,
   "metadata": {},
   "outputs": [
    {
     "name": "stderr",
     "output_type": "stream",
     "text": [
      "<ipython-input-48-f4dfc24428d7>:1: FutureWarning: Indexing with multiple keys (implicitly converted to a tuple of keys) will be deprecated, use a list instead.\n",
      "  g['age','taux_max'].agg([pandas.Series.mean,pandas.Series.std])\n"
     ]
    },
    {
     "data": {
      "text/html": [
       "<div>\n",
       "<style scoped>\n",
       "    .dataframe tbody tr th:only-of-type {\n",
       "        vertical-align: middle;\n",
       "    }\n",
       "\n",
       "    .dataframe tbody tr th {\n",
       "        vertical-align: top;\n",
       "    }\n",
       "\n",
       "    .dataframe thead tr th {\n",
       "        text-align: left;\n",
       "    }\n",
       "\n",
       "    .dataframe thead tr:last-of-type th {\n",
       "        text-align: right;\n",
       "    }\n",
       "</style>\n",
       "<table border=\"1\" class=\"dataframe\">\n",
       "  <thead>\n",
       "    <tr>\n",
       "      <th></th>\n",
       "      <th colspan=\"2\" halign=\"left\">age</th>\n",
       "      <th colspan=\"2\" halign=\"left\">taux_max</th>\n",
       "    </tr>\n",
       "    <tr>\n",
       "      <th></th>\n",
       "      <th>mean</th>\n",
       "      <th>std</th>\n",
       "      <th>mean</th>\n",
       "      <th>std</th>\n",
       "    </tr>\n",
       "    <tr>\n",
       "      <th>sexe</th>\n",
       "      <th></th>\n",
       "      <th></th>\n",
       "      <th></th>\n",
       "      <th></th>\n",
       "    </tr>\n",
       "  </thead>\n",
       "  <tbody>\n",
       "    <tr>\n",
       "      <th>feminin</th>\n",
       "      <td>55.678161</td>\n",
       "      <td>9.626144</td>\n",
       "      <td>152.229885</td>\n",
       "      <td>19.949180</td>\n",
       "    </tr>\n",
       "    <tr>\n",
       "      <th>masculin</th>\n",
       "      <td>53.841530</td>\n",
       "      <td>8.818189</td>\n",
       "      <td>148.464481</td>\n",
       "      <td>24.505832</td>\n",
       "    </tr>\n",
       "  </tbody>\n",
       "</table>\n",
       "</div>"
      ],
      "text/plain": [
       "                age              taux_max           \n",
       "               mean       std        mean        std\n",
       "sexe                                                \n",
       "feminin   55.678161  9.626144  152.229885  19.949180\n",
       "masculin  53.841530  8.818189  148.464481  24.505832"
      ]
     },
     "execution_count": 48,
     "metadata": {},
     "output_type": "execute_result"
    }
   ],
   "source": [
    "g['age','taux_max'].agg([pandas.Series.mean,pandas.Series.std])"
   ]
  },
  {
   "cell_type": "code",
   "execution_count": 104,
   "metadata": {},
   "outputs": [
    {
     "name": "stdout",
     "output_type": "stream",
     "text": [
      "55.67816091954023\n",
      "53.84153005464481\n"
     ]
    }
   ],
   "source": [
    "for groupe in g:\n",
    "    #print(groupe[0])\n",
    "    print(pandas.Series.mean(groupe[1]['age']))"
   ]
  },
  {
   "cell_type": "markdown",
   "metadata": {},
   "source": [
    "# Construction of calculated variables"
   ]
  },
  {
   "cell_type": "markdown",
   "metadata": {
    "collapsed": true
   },
   "source": [
    "As under Numpy, the calculations are vectorized for the Pandas Series type vectors. This avoids going through loops to manipulate the values of the vectors."
   ]
  },
  {
   "cell_type": "code",
   "execution_count": 50,
   "metadata": {},
   "outputs": [
    {
     "name": "stdout",
     "output_type": "stream",
     "text": [
      "0      463.085981\n",
      "1      672.750819\n",
      "2      570.070229\n",
      "3      436.682724\n",
      "4      520.791876\n",
      "          ...    \n",
      "265    640.101482\n",
      "266    654.664807\n",
      "267    615.878809\n",
      "268    598.371588\n",
      "269    454.106803\n",
      "Length: 270, dtype: float64\n"
     ]
    }
   ],
   "source": [
    "import numpy\n",
    "taux_net = df['taux_max']*numpy.log(df['age'])\n",
    "print(taux_net)"
   ]
  },
  {
   "cell_type": "code",
   "execution_count": 51,
   "metadata": {},
   "outputs": [
    {
     "name": "stdout",
     "output_type": "stream",
     "text": [
      "(270, 14)\n"
     ]
    }
   ],
   "source": [
    "newdf = pandas.concat([df,taux_net],axis=1)\n",
    "print(newdf.shape)"
   ]
  },
  {
   "cell_type": "markdown",
   "metadata": {},
   "source": [
    "We want to create an indicator for the sex variable, 1 for 'masculin', 0 for 'feminin'."
   ]
  },
  {
   "cell_type": "code",
   "execution_count": 52,
   "metadata": {},
   "outputs": [
    {
     "name": "stdout",
     "output_type": "stream",
     "text": [
      "(270,)\n"
     ]
    }
   ],
   "source": [
    "code=pandas.Series(numpy.zeros(df.shape[0]))\n",
    "print(code.shape)"
   ]
  },
  {
   "cell_type": "code",
   "execution_count": 53,
   "metadata": {},
   "outputs": [
    {
     "name": "stdout",
     "output_type": "stream",
     "text": [
      "1.0    183\n",
      "0.0     87\n",
      "dtype: int64\n"
     ]
    }
   ],
   "source": [
    "code[df['sexe']==\"masculin\"]=1\n",
    "print(code.value_counts())"
   ]
  },
  {
   "cell_type": "markdown",
   "metadata": {},
   "source": [
    "# Graphics with Matplotlib Library"
   ]
  },
  {
   "cell_type": "markdown",
   "metadata": {},
   "source": [
    "Going through Matplotlib allows you to create efficient graphics. Pandas provides simple commands that encapsulate the call to these procedures."
   ]
  },
  {
   "cell_type": "code",
   "execution_count": 54,
   "metadata": {},
   "outputs": [],
   "source": [
    "import matplotlib.pyplot as plt\n",
    "%matplotlib inline"
   ]
  },
  {
   "cell_type": "markdown",
   "metadata": {},
   "source": [
    "Histogram."
   ]
  },
  {
   "cell_type": "code",
   "execution_count": 55,
   "metadata": {},
   "outputs": [
    {
     "data": {
      "text/plain": [
       "array([[<AxesSubplot:title={'center':'age'}>]], dtype=object)"
      ]
     },
     "execution_count": 55,
     "metadata": {},
     "output_type": "execute_result"
    },
    {
     "data": {
      "image/png": "[encoded data removed]",
      "text/plain": [
       "<Figure size 432x288 with 1 Axes>"
      ]
     },
     "metadata": {
      "needs_background": "light"
     },
     "output_type": "display_data"
    }
   ],
   "source": [
    "df.hist(column='age')"
   ]
  },
  {
   "cell_type": "markdown",
   "metadata": {},
   "source": [
    "Density plot."
   ]
  },
  {
   "cell_type": "code",
   "execution_count": 56,
   "metadata": {},
   "outputs": [
    {
     "data": {
      "text/plain": [
       "<AxesSubplot:ylabel='Density'>"
      ]
     },
     "execution_count": 56,
     "metadata": {},
     "output_type": "execute_result"
    },
    {
     "data": {
      "image/png": "[encoded data removed]",
      "text/plain": [
       "<Figure size 432x288 with 1 Axes>"
      ]
     },
     "metadata": {
      "needs_background": "light"
     },
     "output_type": "display_data"
    }
   ],
   "source": [
    "df['age'].plot.kde()"
   ]
  },
  {
   "cell_type": "code",
   "execution_count": 57,
   "metadata": {},
   "outputs": [
    {
     "data": {
      "text/plain": [
       "array([<AxesSubplot:title={'center':'feminin'}>,\n",
       "       <AxesSubplot:title={'center':'masculin'}>], dtype=object)"
      ]
     },
     "execution_count": 57,
     "metadata": {},
     "output_type": "execute_result"
    },
    {
     "data": {
      "image/png": "[encoded data removed]",
      "text/plain": [
       "<Figure size 432x288 with 2 Axes>"
      ]
     },
     "metadata": {
      "needs_background": "light"
     },
     "output_type": "display_data"
    }
   ],
   "source": [
    "df.hist(column='age', by='sexe')"
   ]
  },
  {
   "cell_type": "markdown",
   "metadata": {},
   "source": [
    "Comparison of distributions with boxplot."
   ]
  },
  {
   "cell_type": "code",
   "execution_count": 58,
   "metadata": {},
   "outputs": [
    {
     "data": {
      "text/plain": [
       "<AxesSubplot:title={'center':'age'}, xlabel='sexe'>"
      ]
     },
     "execution_count": 58,
     "metadata": {},
     "output_type": "execute_result"
    },
    {
     "data": {
      "image/png": "[encoded data removed]",
      "text/plain": [
       "<Figure size 432x288 with 1 Axes>"
      ]
     },
     "metadata": {
      "needs_background": "light"
     },
     "output_type": "display_data"
    }
   ],
   "source": [
    "df.boxplot(column='age', by='sexe')"
   ]
  },
  {
   "cell_type": "markdown",
   "metadata": {},
   "source": [
    "* The central value of the graph is the median (there are as many values above and below this value in the sample).\n",
    "* The edges of the rectangle are the quartiles (For the lower edge, a quarter of the observations have smaller values and three quarters have larger values, the upper edge follows the same reasoning).\n",
    "* The ends of the whiskers are calculated using 1.5 times the interquartile space (the distance between the 1st and 3rd quartile)."
   ]
  },
  {
   "cell_type": "code",
   "execution_count": 59,
   "metadata": {},
   "outputs": [
    {
     "data": {
      "text/plain": [
       "<AxesSubplot:xlabel='age', ylabel='taux_max'>"
      ]
     },
     "execution_count": 59,
     "metadata": {},
     "output_type": "execute_result"
    },
    {
     "data": {
      "image/png": "[encoded data removed]",
      "text/plain": [
       "<Figure size 432x288 with 1 Axes>"
      ]
     },
     "metadata": {
      "needs_background": "light"
     },
     "output_type": "display_data"
    }
   ],
   "source": [
    "df.plot.scatter(x='age',y='taux_max')"
   ]
  },
  {
   "cell_type": "code",
   "execution_count": 60,
   "metadata": {},
   "outputs": [
    {
     "data": {
      "text/plain": [
       "<AxesSubplot:xlabel='age', ylabel='taux_max'>"
      ]
     },
     "execution_count": 60,
     "metadata": {},
     "output_type": "execute_result"
    },
    {
     "data": {
      "image/png": "[encoded data removed]",
      "text/plain": [
       "<Figure size 432x288 with 2 Axes>"
      ]
     },
     "metadata": {
      "needs_background": "light"
     },
     "output_type": "display_data"
    }
   ],
   "source": [
    "df.plot.scatter(x='age',y='taux_max',c='depression')"
   ]
  },
  {
   "cell_type": "code",
   "execution_count": 61,
   "metadata": {},
   "outputs": [
    {
     "data": {
      "text/plain": [
       "<AxesSubplot:xlabel='age', ylabel='taux_max'>"
      ]
     },
     "execution_count": 61,
     "metadata": {},
     "output_type": "execute_result"
    },
    {
     "data": {
      "image/png": "[encoded data removed]",
      "text/plain": [
       "<Figure size 432x288 with 1 Axes>"
      ]
     },
     "metadata": {
      "needs_background": "light"
     },
     "output_type": "display_data"
    }
   ],
   "source": [
    "df.plot.scatter(x='age',y='taux_max',s=df['depression'])"
   ]
  },
  {
   "cell_type": "code",
   "execution_count": 62,
   "metadata": {},
   "outputs": [
    {
     "data": {
      "text/plain": [
       "<AxesSubplot:xlabel='age', ylabel='taux_max'>"
      ]
     },
     "execution_count": 62,
     "metadata": {},
     "output_type": "execute_result"
    },
    {
     "data": {
      "image/png": "[encoded data removed]",
      "text/plain": [
       "<Figure size 432x288 with 1 Axes>"
      ]
     },
     "metadata": {
      "needs_background": "light"
     },
     "output_type": "display_data"
    }
   ],
   "source": [
    "code_coeur=df['coeur'].eq('presence').astype('int')\n",
    "df.plot.scatter(x='age',y='taux_max',c=pandas.Series(['blue','green'])[code_coeur])"
   ]
  },
  {
   "cell_type": "markdown",
   "metadata": {},
   "source": [
    "Kohonen's card grid - allows you to see the density of points."
   ]
  },
  {
   "cell_type": "code",
   "execution_count": 63,
   "metadata": {},
   "outputs": [
    {
     "data": {
      "text/plain": [
       "<AxesSubplot:xlabel='age', ylabel='taux_max'>"
      ]
     },
     "execution_count": 63,
     "metadata": {},
     "output_type": "execute_result"
    },
    {
     "data": {
      "image/png": "[encoded data removed]",
      "text/plain": [
       "<Figure size 432x288 with 2 Axes>"
      ]
     },
     "metadata": {
      "needs_background": "light"
     },
     "output_type": "display_data"
    }
   ],
   "source": [
    "df.plot.hexbin(x='age',y='taux_max',gridsize=25)"
   ]
  },
  {
   "cell_type": "markdown",
   "metadata": {},
   "source": [
    "Hexbin plots can be a useful alternative to scatter plots if your data is too dense to plot each point individually.e utile aux diagrammes de dispersion si vos données sont trop denses pour tracer chaque point individuellement."
   ]
  },
  {
   "cell_type": "code",
   "execution_count": 64,
   "metadata": {},
   "outputs": [
    {
     "data": {
      "text/plain": [
       "<AxesSubplot:xlabel='age', ylabel='taux_max'>"
      ]
     },
     "execution_count": 64,
     "metadata": {},
     "output_type": "execute_result"
    },
    {
     "data": {
      "image/png": "[encoded data removed]",
      "text/plain": [
       "<Figure size 432x288 with 2 Axes>"
      ]
     },
     "metadata": {
      "needs_background": "light"
     },
     "output_type": "display_data"
    }
   ],
   "source": [
    "def moyenne(v):\n",
    "    return(numpy.mean(v))\n",
    "\n",
    "df.plot.hexbin(x='age',y='taux_max',C='depression', reduce_C_function=moyenne, gridsize=25)"
   ]
  },
  {
   "cell_type": "markdown",
   "metadata": {},
   "source": [
    "Diagram."
   ]
  },
  {
   "cell_type": "code",
   "execution_count": 65,
   "metadata": {},
   "outputs": [
    {
     "data": {
      "text/plain": [
       "<AxesSubplot:ylabel='sexe'>"
      ]
     },
     "execution_count": 65,
     "metadata": {},
     "output_type": "execute_result"
    },
    {
     "data": {
      "image/png": "[encoded data removed]",
      "text/plain": [
       "<Figure size 432x288 with 1 Axes>"
      ]
     },
     "metadata": {},
     "output_type": "display_data"
    }
   ],
   "source": [
    "df['sexe'].value_counts().plot.pie()"
   ]
  },
  {
   "cell_type": "code",
   "execution_count": 66,
   "metadata": {},
   "outputs": [
    {
     "data": {
      "text/plain": [
       "<seaborn.axisgrid.PairGrid at 0x2d73e665970>"
      ]
     },
     "execution_count": 66,
     "metadata": {},
     "output_type": "execute_result"
    },
    {
     "data": {
      "image/png": "[encoded data removed]",
      "text/plain": [
       "<Figure size 1080x1080 with 42 Axes>"
      ]
     },
     "metadata": {},
     "output_type": "display_data"
    }
   ],
   "source": [
    "import seaborn as sns\n",
    "sns.set(style=\"ticks\")\n",
    "sns.pairplot(df)"
   ]
  }
 ],
 "metadata": {
  "kernelspec": {
   "display_name": "Python 3",
   "language": "python",
   "name": "python3"
  },
  "language_info": {
   "codemirror_mode": {
    "name": "ipython",
    "version": 3
   },
   "file_extension": ".py",
   "mimetype": "text/x-python",
   "name": "python",
   "nbconvert_exporter": "python",
   "pygments_lexer": "ipython3",
   "version": "3.8.5"
  }
 },
 "nbformat": 4,
 "nbformat_minor": 2
}
